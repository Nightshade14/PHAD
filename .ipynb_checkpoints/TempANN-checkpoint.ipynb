{
 "cells": [
  {
   "cell_type": "code",
   "execution_count": 1,
   "metadata": {},
   "outputs": [
    {
     "name": "stderr",
     "output_type": "stream",
     "text": [
      "2022-04-11 16:44:27.802963: I tensorflow/stream_executor/platform/default/dso_loader.cc:49] Successfully opened dynamic library libcudart.so.10.1\n"
     ]
    }
   ],
   "source": [
    "import numpy as np\n",
    "import pandas as pd\n",
    "import matplotlib.pyplot as plt\n",
    "import seaborn as sns\n",
    "import tensorflow as tf"
   ]
  },
  {
   "cell_type": "code",
   "execution_count": 2,
   "metadata": {},
   "outputs": [],
   "source": [
    "df = pd.read_csv('PIMA.csv')"
   ]
  },
  {
   "cell_type": "code",
   "execution_count": 3,
   "metadata": {},
   "outputs": [
    {
     "data": {
      "text/plain": [
       "9"
      ]
     },
     "execution_count": 3,
     "metadata": {},
     "output_type": "execute_result"
    }
   ],
   "source": [
    "len(df.columns)"
   ]
  },
  {
   "cell_type": "code",
   "execution_count": 4,
   "metadata": {},
   "outputs": [
    {
     "data": {
      "text/plain": [
       "(2000, 9)"
      ]
     },
     "execution_count": 4,
     "metadata": {},
     "output_type": "execute_result"
    }
   ],
   "source": [
    "df.shape"
   ]
  },
  {
   "cell_type": "code",
   "execution_count": 5,
   "metadata": {},
   "outputs": [
    {
     "data": {
      "text/html": [
       "<div>\n",
       "<style scoped>\n",
       "    .dataframe tbody tr th:only-of-type {\n",
       "        vertical-align: middle;\n",
       "    }\n",
       "\n",
       "    .dataframe tbody tr th {\n",
       "        vertical-align: top;\n",
       "    }\n",
       "\n",
       "    .dataframe thead th {\n",
       "        text-align: right;\n",
       "    }\n",
       "</style>\n",
       "<table border=\"1\" class=\"dataframe\">\n",
       "  <thead>\n",
       "    <tr style=\"text-align: right;\">\n",
       "      <th></th>\n",
       "      <th>Pregnancies</th>\n",
       "      <th>Glucose</th>\n",
       "      <th>BloodPressure</th>\n",
       "      <th>SkinThickness</th>\n",
       "      <th>Insulin</th>\n",
       "      <th>BMI</th>\n",
       "      <th>DiabetesPedigreeFunction</th>\n",
       "      <th>Age</th>\n",
       "      <th>Outcome</th>\n",
       "    </tr>\n",
       "  </thead>\n",
       "  <tbody>\n",
       "    <tr>\n",
       "      <th>0</th>\n",
       "      <td>2</td>\n",
       "      <td>138</td>\n",
       "      <td>62</td>\n",
       "      <td>35</td>\n",
       "      <td>0</td>\n",
       "      <td>33.6</td>\n",
       "      <td>0.127</td>\n",
       "      <td>47</td>\n",
       "      <td>1</td>\n",
       "    </tr>\n",
       "    <tr>\n",
       "      <th>1</th>\n",
       "      <td>0</td>\n",
       "      <td>84</td>\n",
       "      <td>82</td>\n",
       "      <td>31</td>\n",
       "      <td>125</td>\n",
       "      <td>38.2</td>\n",
       "      <td>0.233</td>\n",
       "      <td>23</td>\n",
       "      <td>0</td>\n",
       "    </tr>\n",
       "    <tr>\n",
       "      <th>2</th>\n",
       "      <td>0</td>\n",
       "      <td>145</td>\n",
       "      <td>0</td>\n",
       "      <td>0</td>\n",
       "      <td>0</td>\n",
       "      <td>44.2</td>\n",
       "      <td>0.630</td>\n",
       "      <td>31</td>\n",
       "      <td>1</td>\n",
       "    </tr>\n",
       "    <tr>\n",
       "      <th>3</th>\n",
       "      <td>0</td>\n",
       "      <td>135</td>\n",
       "      <td>68</td>\n",
       "      <td>42</td>\n",
       "      <td>250</td>\n",
       "      <td>42.3</td>\n",
       "      <td>0.365</td>\n",
       "      <td>24</td>\n",
       "      <td>1</td>\n",
       "    </tr>\n",
       "    <tr>\n",
       "      <th>4</th>\n",
       "      <td>1</td>\n",
       "      <td>139</td>\n",
       "      <td>62</td>\n",
       "      <td>41</td>\n",
       "      <td>480</td>\n",
       "      <td>40.7</td>\n",
       "      <td>0.536</td>\n",
       "      <td>21</td>\n",
       "      <td>0</td>\n",
       "    </tr>\n",
       "    <tr>\n",
       "      <th>...</th>\n",
       "      <td>...</td>\n",
       "      <td>...</td>\n",
       "      <td>...</td>\n",
       "      <td>...</td>\n",
       "      <td>...</td>\n",
       "      <td>...</td>\n",
       "      <td>...</td>\n",
       "      <td>...</td>\n",
       "      <td>...</td>\n",
       "    </tr>\n",
       "    <tr>\n",
       "      <th>1995</th>\n",
       "      <td>2</td>\n",
       "      <td>75</td>\n",
       "      <td>64</td>\n",
       "      <td>24</td>\n",
       "      <td>55</td>\n",
       "      <td>29.7</td>\n",
       "      <td>0.370</td>\n",
       "      <td>33</td>\n",
       "      <td>0</td>\n",
       "    </tr>\n",
       "    <tr>\n",
       "      <th>1996</th>\n",
       "      <td>8</td>\n",
       "      <td>179</td>\n",
       "      <td>72</td>\n",
       "      <td>42</td>\n",
       "      <td>130</td>\n",
       "      <td>32.7</td>\n",
       "      <td>0.719</td>\n",
       "      <td>36</td>\n",
       "      <td>1</td>\n",
       "    </tr>\n",
       "    <tr>\n",
       "      <th>1997</th>\n",
       "      <td>6</td>\n",
       "      <td>85</td>\n",
       "      <td>78</td>\n",
       "      <td>0</td>\n",
       "      <td>0</td>\n",
       "      <td>31.2</td>\n",
       "      <td>0.382</td>\n",
       "      <td>42</td>\n",
       "      <td>0</td>\n",
       "    </tr>\n",
       "    <tr>\n",
       "      <th>1998</th>\n",
       "      <td>0</td>\n",
       "      <td>129</td>\n",
       "      <td>110</td>\n",
       "      <td>46</td>\n",
       "      <td>130</td>\n",
       "      <td>67.1</td>\n",
       "      <td>0.319</td>\n",
       "      <td>26</td>\n",
       "      <td>1</td>\n",
       "    </tr>\n",
       "    <tr>\n",
       "      <th>1999</th>\n",
       "      <td>2</td>\n",
       "      <td>81</td>\n",
       "      <td>72</td>\n",
       "      <td>15</td>\n",
       "      <td>76</td>\n",
       "      <td>30.1</td>\n",
       "      <td>0.547</td>\n",
       "      <td>25</td>\n",
       "      <td>0</td>\n",
       "    </tr>\n",
       "  </tbody>\n",
       "</table>\n",
       "<p>2000 rows × 9 columns</p>\n",
       "</div>"
      ],
      "text/plain": [
       "      Pregnancies  Glucose  BloodPressure  SkinThickness  Insulin   BMI  \\\n",
       "0               2      138             62             35        0  33.6   \n",
       "1               0       84             82             31      125  38.2   \n",
       "2               0      145              0              0        0  44.2   \n",
       "3               0      135             68             42      250  42.3   \n",
       "4               1      139             62             41      480  40.7   \n",
       "...           ...      ...            ...            ...      ...   ...   \n",
       "1995            2       75             64             24       55  29.7   \n",
       "1996            8      179             72             42      130  32.7   \n",
       "1997            6       85             78              0        0  31.2   \n",
       "1998            0      129            110             46      130  67.1   \n",
       "1999            2       81             72             15       76  30.1   \n",
       "\n",
       "      DiabetesPedigreeFunction  Age  Outcome  \n",
       "0                        0.127   47        1  \n",
       "1                        0.233   23        0  \n",
       "2                        0.630   31        1  \n",
       "3                        0.365   24        1  \n",
       "4                        0.536   21        0  \n",
       "...                        ...  ...      ...  \n",
       "1995                     0.370   33        0  \n",
       "1996                     0.719   36        1  \n",
       "1997                     0.382   42        0  \n",
       "1998                     0.319   26        1  \n",
       "1999                     0.547   25        0  \n",
       "\n",
       "[2000 rows x 9 columns]"
      ]
     },
     "execution_count": 5,
     "metadata": {},
     "output_type": "execute_result"
    }
   ],
   "source": [
    "df"
   ]
  },
  {
   "cell_type": "code",
   "execution_count": 6,
   "metadata": {},
   "outputs": [
    {
     "data": {
      "text/html": [
       "<div>\n",
       "<style scoped>\n",
       "    .dataframe tbody tr th:only-of-type {\n",
       "        vertical-align: middle;\n",
       "    }\n",
       "\n",
       "    .dataframe tbody tr th {\n",
       "        vertical-align: top;\n",
       "    }\n",
       "\n",
       "    .dataframe thead th {\n",
       "        text-align: right;\n",
       "    }\n",
       "</style>\n",
       "<table border=\"1\" class=\"dataframe\">\n",
       "  <thead>\n",
       "    <tr style=\"text-align: right;\">\n",
       "      <th></th>\n",
       "      <th>Pregnancies</th>\n",
       "      <th>Glucose</th>\n",
       "      <th>BloodPressure</th>\n",
       "      <th>SkinThickness</th>\n",
       "      <th>Insulin</th>\n",
       "      <th>BMI</th>\n",
       "      <th>DiabetesPedigreeFunction</th>\n",
       "      <th>Age</th>\n",
       "      <th>Outcome</th>\n",
       "    </tr>\n",
       "  </thead>\n",
       "  <tbody>\n",
       "    <tr>\n",
       "      <th>count</th>\n",
       "      <td>2000.000000</td>\n",
       "      <td>2000.000000</td>\n",
       "      <td>2000.000000</td>\n",
       "      <td>2000.000000</td>\n",
       "      <td>2000.000000</td>\n",
       "      <td>2000.000000</td>\n",
       "      <td>2000.000000</td>\n",
       "      <td>2000.000000</td>\n",
       "      <td>2000.000000</td>\n",
       "    </tr>\n",
       "    <tr>\n",
       "      <th>mean</th>\n",
       "      <td>3.703500</td>\n",
       "      <td>121.182500</td>\n",
       "      <td>69.145500</td>\n",
       "      <td>20.935000</td>\n",
       "      <td>80.254000</td>\n",
       "      <td>32.193000</td>\n",
       "      <td>0.470930</td>\n",
       "      <td>33.090500</td>\n",
       "      <td>0.342000</td>\n",
       "    </tr>\n",
       "    <tr>\n",
       "      <th>std</th>\n",
       "      <td>3.306063</td>\n",
       "      <td>32.068636</td>\n",
       "      <td>19.188315</td>\n",
       "      <td>16.103243</td>\n",
       "      <td>111.180534</td>\n",
       "      <td>8.149901</td>\n",
       "      <td>0.323553</td>\n",
       "      <td>11.786423</td>\n",
       "      <td>0.474498</td>\n",
       "    </tr>\n",
       "    <tr>\n",
       "      <th>min</th>\n",
       "      <td>0.000000</td>\n",
       "      <td>0.000000</td>\n",
       "      <td>0.000000</td>\n",
       "      <td>0.000000</td>\n",
       "      <td>0.000000</td>\n",
       "      <td>0.000000</td>\n",
       "      <td>0.078000</td>\n",
       "      <td>21.000000</td>\n",
       "      <td>0.000000</td>\n",
       "    </tr>\n",
       "    <tr>\n",
       "      <th>25%</th>\n",
       "      <td>1.000000</td>\n",
       "      <td>99.000000</td>\n",
       "      <td>63.500000</td>\n",
       "      <td>0.000000</td>\n",
       "      <td>0.000000</td>\n",
       "      <td>27.375000</td>\n",
       "      <td>0.244000</td>\n",
       "      <td>24.000000</td>\n",
       "      <td>0.000000</td>\n",
       "    </tr>\n",
       "    <tr>\n",
       "      <th>50%</th>\n",
       "      <td>3.000000</td>\n",
       "      <td>117.000000</td>\n",
       "      <td>72.000000</td>\n",
       "      <td>23.000000</td>\n",
       "      <td>40.000000</td>\n",
       "      <td>32.300000</td>\n",
       "      <td>0.376000</td>\n",
       "      <td>29.000000</td>\n",
       "      <td>0.000000</td>\n",
       "    </tr>\n",
       "    <tr>\n",
       "      <th>75%</th>\n",
       "      <td>6.000000</td>\n",
       "      <td>141.000000</td>\n",
       "      <td>80.000000</td>\n",
       "      <td>32.000000</td>\n",
       "      <td>130.000000</td>\n",
       "      <td>36.800000</td>\n",
       "      <td>0.624000</td>\n",
       "      <td>40.000000</td>\n",
       "      <td>1.000000</td>\n",
       "    </tr>\n",
       "    <tr>\n",
       "      <th>max</th>\n",
       "      <td>17.000000</td>\n",
       "      <td>199.000000</td>\n",
       "      <td>122.000000</td>\n",
       "      <td>110.000000</td>\n",
       "      <td>744.000000</td>\n",
       "      <td>80.600000</td>\n",
       "      <td>2.420000</td>\n",
       "      <td>81.000000</td>\n",
       "      <td>1.000000</td>\n",
       "    </tr>\n",
       "  </tbody>\n",
       "</table>\n",
       "</div>"
      ],
      "text/plain": [
       "       Pregnancies      Glucose  BloodPressure  SkinThickness      Insulin  \\\n",
       "count  2000.000000  2000.000000    2000.000000    2000.000000  2000.000000   \n",
       "mean      3.703500   121.182500      69.145500      20.935000    80.254000   \n",
       "std       3.306063    32.068636      19.188315      16.103243   111.180534   \n",
       "min       0.000000     0.000000       0.000000       0.000000     0.000000   \n",
       "25%       1.000000    99.000000      63.500000       0.000000     0.000000   \n",
       "50%       3.000000   117.000000      72.000000      23.000000    40.000000   \n",
       "75%       6.000000   141.000000      80.000000      32.000000   130.000000   \n",
       "max      17.000000   199.000000     122.000000     110.000000   744.000000   \n",
       "\n",
       "               BMI  DiabetesPedigreeFunction          Age      Outcome  \n",
       "count  2000.000000               2000.000000  2000.000000  2000.000000  \n",
       "mean     32.193000                  0.470930    33.090500     0.342000  \n",
       "std       8.149901                  0.323553    11.786423     0.474498  \n",
       "min       0.000000                  0.078000    21.000000     0.000000  \n",
       "25%      27.375000                  0.244000    24.000000     0.000000  \n",
       "50%      32.300000                  0.376000    29.000000     0.000000  \n",
       "75%      36.800000                  0.624000    40.000000     1.000000  \n",
       "max      80.600000                  2.420000    81.000000     1.000000  "
      ]
     },
     "execution_count": 6,
     "metadata": {},
     "output_type": "execute_result"
    }
   ],
   "source": [
    "df.describe()"
   ]
  },
  {
   "cell_type": "code",
   "execution_count": 7,
   "metadata": {},
   "outputs": [
    {
     "data": {
      "text/plain": [
       "Pregnancies                   int64\n",
       "Glucose                       int64\n",
       "BloodPressure                 int64\n",
       "SkinThickness                 int64\n",
       "Insulin                       int64\n",
       "BMI                         float64\n",
       "DiabetesPedigreeFunction    float64\n",
       "Age                           int64\n",
       "Outcome                       int64\n",
       "dtype: object"
      ]
     },
     "execution_count": 7,
     "metadata": {},
     "output_type": "execute_result"
    }
   ],
   "source": [
    "df.dtypes"
   ]
  },
  {
   "cell_type": "code",
   "execution_count": 8,
   "metadata": {},
   "outputs": [],
   "source": [
    "df.drop(['DiabetesPedigreeFunction'], axis = 1, inplace=True)"
   ]
  },
  {
   "cell_type": "code",
   "execution_count": 9,
   "metadata": {},
   "outputs": [
    {
     "data": {
      "text/html": [
       "<div>\n",
       "<style scoped>\n",
       "    .dataframe tbody tr th:only-of-type {\n",
       "        vertical-align: middle;\n",
       "    }\n",
       "\n",
       "    .dataframe tbody tr th {\n",
       "        vertical-align: top;\n",
       "    }\n",
       "\n",
       "    .dataframe thead th {\n",
       "        text-align: right;\n",
       "    }\n",
       "</style>\n",
       "<table border=\"1\" class=\"dataframe\">\n",
       "  <thead>\n",
       "    <tr style=\"text-align: right;\">\n",
       "      <th></th>\n",
       "      <th>Pregnancies</th>\n",
       "      <th>Glucose</th>\n",
       "      <th>BloodPressure</th>\n",
       "      <th>SkinThickness</th>\n",
       "      <th>Insulin</th>\n",
       "      <th>BMI</th>\n",
       "      <th>Age</th>\n",
       "      <th>Outcome</th>\n",
       "    </tr>\n",
       "  </thead>\n",
       "  <tbody>\n",
       "    <tr>\n",
       "      <th>0</th>\n",
       "      <td>2</td>\n",
       "      <td>138</td>\n",
       "      <td>62</td>\n",
       "      <td>35</td>\n",
       "      <td>0</td>\n",
       "      <td>33.6</td>\n",
       "      <td>47</td>\n",
       "      <td>1</td>\n",
       "    </tr>\n",
       "    <tr>\n",
       "      <th>1</th>\n",
       "      <td>0</td>\n",
       "      <td>84</td>\n",
       "      <td>82</td>\n",
       "      <td>31</td>\n",
       "      <td>125</td>\n",
       "      <td>38.2</td>\n",
       "      <td>23</td>\n",
       "      <td>0</td>\n",
       "    </tr>\n",
       "    <tr>\n",
       "      <th>2</th>\n",
       "      <td>0</td>\n",
       "      <td>145</td>\n",
       "      <td>0</td>\n",
       "      <td>0</td>\n",
       "      <td>0</td>\n",
       "      <td>44.2</td>\n",
       "      <td>31</td>\n",
       "      <td>1</td>\n",
       "    </tr>\n",
       "    <tr>\n",
       "      <th>3</th>\n",
       "      <td>0</td>\n",
       "      <td>135</td>\n",
       "      <td>68</td>\n",
       "      <td>42</td>\n",
       "      <td>250</td>\n",
       "      <td>42.3</td>\n",
       "      <td>24</td>\n",
       "      <td>1</td>\n",
       "    </tr>\n",
       "    <tr>\n",
       "      <th>4</th>\n",
       "      <td>1</td>\n",
       "      <td>139</td>\n",
       "      <td>62</td>\n",
       "      <td>41</td>\n",
       "      <td>480</td>\n",
       "      <td>40.7</td>\n",
       "      <td>21</td>\n",
       "      <td>0</td>\n",
       "    </tr>\n",
       "    <tr>\n",
       "      <th>...</th>\n",
       "      <td>...</td>\n",
       "      <td>...</td>\n",
       "      <td>...</td>\n",
       "      <td>...</td>\n",
       "      <td>...</td>\n",
       "      <td>...</td>\n",
       "      <td>...</td>\n",
       "      <td>...</td>\n",
       "    </tr>\n",
       "    <tr>\n",
       "      <th>1995</th>\n",
       "      <td>2</td>\n",
       "      <td>75</td>\n",
       "      <td>64</td>\n",
       "      <td>24</td>\n",
       "      <td>55</td>\n",
       "      <td>29.7</td>\n",
       "      <td>33</td>\n",
       "      <td>0</td>\n",
       "    </tr>\n",
       "    <tr>\n",
       "      <th>1996</th>\n",
       "      <td>8</td>\n",
       "      <td>179</td>\n",
       "      <td>72</td>\n",
       "      <td>42</td>\n",
       "      <td>130</td>\n",
       "      <td>32.7</td>\n",
       "      <td>36</td>\n",
       "      <td>1</td>\n",
       "    </tr>\n",
       "    <tr>\n",
       "      <th>1997</th>\n",
       "      <td>6</td>\n",
       "      <td>85</td>\n",
       "      <td>78</td>\n",
       "      <td>0</td>\n",
       "      <td>0</td>\n",
       "      <td>31.2</td>\n",
       "      <td>42</td>\n",
       "      <td>0</td>\n",
       "    </tr>\n",
       "    <tr>\n",
       "      <th>1998</th>\n",
       "      <td>0</td>\n",
       "      <td>129</td>\n",
       "      <td>110</td>\n",
       "      <td>46</td>\n",
       "      <td>130</td>\n",
       "      <td>67.1</td>\n",
       "      <td>26</td>\n",
       "      <td>1</td>\n",
       "    </tr>\n",
       "    <tr>\n",
       "      <th>1999</th>\n",
       "      <td>2</td>\n",
       "      <td>81</td>\n",
       "      <td>72</td>\n",
       "      <td>15</td>\n",
       "      <td>76</td>\n",
       "      <td>30.1</td>\n",
       "      <td>25</td>\n",
       "      <td>0</td>\n",
       "    </tr>\n",
       "  </tbody>\n",
       "</table>\n",
       "<p>2000 rows × 8 columns</p>\n",
       "</div>"
      ],
      "text/plain": [
       "      Pregnancies  Glucose  BloodPressure  SkinThickness  Insulin   BMI  Age  \\\n",
       "0               2      138             62             35        0  33.6   47   \n",
       "1               0       84             82             31      125  38.2   23   \n",
       "2               0      145              0              0        0  44.2   31   \n",
       "3               0      135             68             42      250  42.3   24   \n",
       "4               1      139             62             41      480  40.7   21   \n",
       "...           ...      ...            ...            ...      ...   ...  ...   \n",
       "1995            2       75             64             24       55  29.7   33   \n",
       "1996            8      179             72             42      130  32.7   36   \n",
       "1997            6       85             78              0        0  31.2   42   \n",
       "1998            0      129            110             46      130  67.1   26   \n",
       "1999            2       81             72             15       76  30.1   25   \n",
       "\n",
       "      Outcome  \n",
       "0           1  \n",
       "1           0  \n",
       "2           1  \n",
       "3           1  \n",
       "4           0  \n",
       "...       ...  \n",
       "1995        0  \n",
       "1996        1  \n",
       "1997        0  \n",
       "1998        1  \n",
       "1999        0  \n",
       "\n",
       "[2000 rows x 8 columns]"
      ]
     },
     "execution_count": 9,
     "metadata": {},
     "output_type": "execute_result"
    }
   ],
   "source": [
    "df"
   ]
  },
  {
   "cell_type": "code",
   "execution_count": 10,
   "metadata": {},
   "outputs": [
    {
     "name": "stdout",
     "output_type": "stream",
     "text": [
      "<class 'pandas.core.frame.DataFrame'>\n",
      "RangeIndex: 2000 entries, 0 to 1999\n",
      "Data columns (total 8 columns):\n",
      " #   Column         Non-Null Count  Dtype  \n",
      "---  ------         --------------  -----  \n",
      " 0   Pregnancies    2000 non-null   int64  \n",
      " 1   Glucose        2000 non-null   int64  \n",
      " 2   BloodPressure  2000 non-null   int64  \n",
      " 3   SkinThickness  2000 non-null   int64  \n",
      " 4   Insulin        2000 non-null   int64  \n",
      " 5   BMI            2000 non-null   float64\n",
      " 6   Age            2000 non-null   int64  \n",
      " 7   Outcome        2000 non-null   int64  \n",
      "dtypes: float64(1), int64(7)\n",
      "memory usage: 125.1 KB\n"
     ]
    }
   ],
   "source": [
    "df.info()"
   ]
  },
  {
   "cell_type": "code",
   "execution_count": 11,
   "metadata": {},
   "outputs": [
    {
     "data": {
      "text/plain": [
       "Pregnancies      0\n",
       "Glucose          0\n",
       "BloodPressure    0\n",
       "SkinThickness    0\n",
       "Insulin          0\n",
       "BMI              0\n",
       "Age              0\n",
       "Outcome          0\n",
       "dtype: int64"
      ]
     },
     "execution_count": 11,
     "metadata": {},
     "output_type": "execute_result"
    }
   ],
   "source": [
    "df.isnull().sum()"
   ]
  },
  {
   "cell_type": "code",
   "execution_count": 12,
   "metadata": {},
   "outputs": [],
   "source": [
    "# plt.figure(figsize=(14,14))\n",
    "# sns.boxplot(data=df)\n",
    "# plt.yscale('log')"
   ]
  },
  {
   "cell_type": "code",
   "execution_count": 13,
   "metadata": {},
   "outputs": [],
   "source": [
    "# plt.figure(figsize=(13,13))\n",
    "# for colName in df.columns:\n",
    "#     plt.figure()\n",
    "#     sns.scatterplot(data=df[colName])"
   ]
  },
  {
   "cell_type": "code",
   "execution_count": null,
   "metadata": {},
   "outputs": [],
   "source": []
  },
  {
   "cell_type": "code",
   "execution_count": null,
   "metadata": {},
   "outputs": [],
   "source": []
  },
  {
   "cell_type": "code",
   "execution_count": null,
   "metadata": {},
   "outputs": [],
   "source": []
  },
  {
   "cell_type": "code",
   "execution_count": 14,
   "metadata": {},
   "outputs": [
    {
     "name": "stderr",
     "output_type": "stream",
     "text": [
      "/tmp/ipykernel_65888/684818280.py:1: SettingWithCopyWarning: \n",
      "A value is trying to be set on a copy of a slice from a DataFrame\n",
      "\n",
      "See the caveats in the documentation: https://pandas.pydata.org/pandas-docs/stable/user_guide/indexing.html#returning-a-view-versus-a-copy\n",
      "  df['BloodPressure'].loc[(df['BloodPressure'] <= 30)] = np.nan\n",
      "/tmp/ipykernel_65888/684818280.py:2: SettingWithCopyWarning: \n",
      "A value is trying to be set on a copy of a slice from a DataFrame\n",
      "\n",
      "See the caveats in the documentation: https://pandas.pydata.org/pandas-docs/stable/user_guide/indexing.html#returning-a-view-versus-a-copy\n",
      "  df['Glucose'].loc[(df['Glucose'] <= 45)] = np.nan\n"
     ]
    }
   ],
   "source": [
    "df['BloodPressure'].loc[(df['BloodPressure'] <= 30)] = np.nan\n",
    "df['Glucose'].loc[(df['Glucose'] <= 45)] = np.nan"
   ]
  },
  {
   "cell_type": "code",
   "execution_count": 15,
   "metadata": {},
   "outputs": [
    {
     "data": {
      "text/plain": [
       "Pregnancies       0\n",
       "Glucose          15\n",
       "BloodPressure    95\n",
       "SkinThickness     0\n",
       "Insulin           0\n",
       "BMI               0\n",
       "Age               0\n",
       "Outcome           0\n",
       "dtype: int64"
      ]
     },
     "execution_count": 15,
     "metadata": {},
     "output_type": "execute_result"
    }
   ],
   "source": [
    "df.isnull().sum()"
   ]
  },
  {
   "cell_type": "code",
   "execution_count": 16,
   "metadata": {},
   "outputs": [
    {
     "data": {
      "text/plain": [
       "0.0475"
      ]
     },
     "execution_count": 16,
     "metadata": {},
     "output_type": "execute_result"
    }
   ],
   "source": [
    "df['BloodPressure'].isnull().sum()/len(df['BloodPressure'])"
   ]
  },
  {
   "cell_type": "code",
   "execution_count": 17,
   "metadata": {},
   "outputs": [],
   "source": [
    "df = df.dropna()"
   ]
  },
  {
   "cell_type": "code",
   "execution_count": 18,
   "metadata": {},
   "outputs": [
    {
     "data": {
      "text/plain": [
       "Pregnancies      0\n",
       "Glucose          0\n",
       "BloodPressure    0\n",
       "SkinThickness    0\n",
       "Insulin          0\n",
       "BMI              0\n",
       "Age              0\n",
       "Outcome          0\n",
       "dtype: int64"
      ]
     },
     "execution_count": 18,
     "metadata": {},
     "output_type": "execute_result"
    }
   ],
   "source": [
    "df.isnull().sum()"
   ]
  },
  {
   "cell_type": "code",
   "execution_count": 19,
   "metadata": {},
   "outputs": [],
   "source": [
    "X = df.iloc[:,:-1]\n",
    "y = df.iloc[:,-1]"
   ]
  },
  {
   "cell_type": "code",
   "execution_count": 20,
   "metadata": {},
   "outputs": [
    {
     "data": {
      "text/plain": [
       "1890"
      ]
     },
     "execution_count": 20,
     "metadata": {},
     "output_type": "execute_result"
    }
   ],
   "source": [
    "len(X)"
   ]
  },
  {
   "cell_type": "code",
   "execution_count": 21,
   "metadata": {},
   "outputs": [],
   "source": [
    "X = X.to_numpy()\n",
    "y = y.to_numpy()"
   ]
  },
  {
   "cell_type": "code",
   "execution_count": 22,
   "metadata": {},
   "outputs": [
    {
     "data": {
      "text/plain": [
       "array([[  2. , 138. ,  62. , ...,   0. ,  33.6,  47. ],\n",
       "       [  0. ,  84. ,  82. , ..., 125. ,  38.2,  23. ],\n",
       "       [  0. , 135. ,  68. , ..., 250. ,  42.3,  24. ],\n",
       "       ...,\n",
       "       [  6. ,  85. ,  78. , ...,   0. ,  31.2,  42. ],\n",
       "       [  0. , 129. , 110. , ..., 130. ,  67.1,  26. ],\n",
       "       [  2. ,  81. ,  72. , ...,  76. ,  30.1,  25. ]])"
      ]
     },
     "execution_count": 22,
     "metadata": {},
     "output_type": "execute_result"
    }
   ],
   "source": [
    "X"
   ]
  },
  {
   "cell_type": "code",
   "execution_count": 23,
   "metadata": {},
   "outputs": [
    {
     "data": {
      "text/plain": [
       "array([1, 0, 1, ..., 0, 1, 0])"
      ]
     },
     "execution_count": 23,
     "metadata": {},
     "output_type": "execute_result"
    }
   ],
   "source": [
    "y"
   ]
  },
  {
   "cell_type": "code",
   "execution_count": 24,
   "metadata": {},
   "outputs": [],
   "source": [
    "from sklearn.model_selection import train_test_split\n",
    "X_train, X_test, Y_train, Y_test = train_test_split(X, y, test_size = 0.20, random_state = 0)"
   ]
  },
  {
   "cell_type": "code",
   "execution_count": 25,
   "metadata": {},
   "outputs": [],
   "source": [
    "# X_val, X_test, y_val, y_test = train_test_split(X_train, y_train, test_size = 0.5, random_state = 0)"
   ]
  },
  {
   "cell_type": "code",
   "execution_count": 26,
   "metadata": {},
   "outputs": [],
   "source": [
    "from sklearn.preprocessing import StandardScaler\n",
    "sc1 = StandardScaler()\n",
    "sc1.fit(X_train)\n",
    "X_test = sc1.transform(X_test)"
   ]
  },
  {
   "cell_type": "code",
   "execution_count": 46,
   "metadata": {},
   "outputs": [],
   "source": [
    "import pickle\n",
    "with open('scalers/standardScaler.pkl','wb') as f:\n",
    "    pickle.dump(sc,f)"
   ]
  },
  {
   "cell_type": "code",
   "execution_count": 28,
   "metadata": {},
   "outputs": [],
   "source": [
    "# ann = tf.keras.models.Sequential()\n",
    "\n",
    "# ann.add(tf.keras.layers.Dense(units=7, activation='relu'))\n",
    "# ann.add(tf.keras.layers.Dense(units=14, activation='relu'))\n",
    "# ann.add(tf.keras.layers.Dense(units=50, activation='relu'))\n",
    "# ann.add(tf.keras.layers.Dense(units=75, activation='relu'))\n",
    "# ann.add(tf.keras.layers.Dense(units=50, activation='relu'))\n",
    "# ann.add(tf.keras.layers.Dense(units=14, activation='relu'))\n",
    "# ann.add(tf.keras.layers.Dense(units=7, activation='relu'))\n",
    "# ann.add(tf.keras.layers.Dense(units=1, activation='sigmoid'))\n",
    "\n",
    "\n",
    "# ann.compile(loss='binary_crossentropy',\n",
    "#              optimizer='adam',\n",
    "#              metrics=[\n",
    "#                  tf.keras.metrics.BinaryAccuracy(name='accuracy'),\n",
    "#                 tf.keras.metrics.Precision(name='precision'),\n",
    "#                 tf.keras.metrics.Recall(name='recall')\n",
    "#              ])"
   ]
  },
  {
   "cell_type": "code",
   "execution_count": 29,
   "metadata": {},
   "outputs": [],
   "source": [
    "# ann = tf.keras.models.Sequential()\n",
    "\n",
    "# ann.add(tf.keras.layers.Dense(units=7, activation='relu'))\n",
    "# ann.add(tf.keras.layers.Dense(units=14, activation='relu'))\n",
    "# ann.add(tf.keras.layers.Dense(units=79, activation='relu'))\n",
    "# ann.add(tf.keras.layers.Dense(units=57, activation='relu'))\n",
    "# ann.add(tf.keras.layers.Dense(units=1, activation='sigmoid'))\n",
    "\n",
    "\n",
    "# ann.compile(loss='binary_crossentropy',\n",
    "#              optimizer='adam',\n",
    "#              metrics=[\n",
    "#                 tf.keras.metrics.BinaryAccuracy(name='accuracy'),\n",
    "#                 tf.keras.metrics.Precision(name='precision'),\n",
    "#                 tf.keras.metrics.Recall(name='recall')\n",
    "#              ])"
   ]
  },
  {
   "cell_type": "code",
   "execution_count": 30,
   "metadata": {},
   "outputs": [],
   "source": [
    "# ann = tf.keras.models.Sequential()\n",
    "\n",
    "# # ann.add(tf.keras.layers.Dense(units=7, activation='relu'))\n",
    "# ann.add(tf.keras.layers.Dense(units=14, activation='relu'))\n",
    "# ann.add(tf.keras.layers.Dense(units=101, activation='relu'))\n",
    "# ann.add(tf.keras.layers.Dense(units=200, activation='relu'))\n",
    "# ann.add(tf.keras.layers.Dense(units=89, activation='relu'))\n",
    "# ann.add(tf.keras.layers.Dense(units=37, activation='relu'))\n",
    "# ann.add(tf.keras.layers.Dense(units=1, activation='sigmoid'))\n",
    "\n",
    "\n",
    "# ann.compile(loss='binary_crossentropy',\n",
    "#              optimizer='adam',\n",
    "#              metrics=[\n",
    "#                 tf.keras.metrics.BinaryAccuracy(name='accuracy'),\n",
    "#                 tf.keras.metrics.Precision(name='precision'),\n",
    "#                 tf.keras.metrics.Recall(name='recall')\n",
    "#              ])"
   ]
  },
  {
   "cell_type": "code",
   "execution_count": 31,
   "metadata": {},
   "outputs": [],
   "source": [
    "# ann = tf.keras.models.Sequential()\n",
    "\n",
    "# ann.add(tf.keras.layers.Dense(units=7, activation='relu'))\n",
    "# ann.add(tf.keras.layers.Dense(units=131, activation='relu'))\n",
    "# ann.add(tf.keras.layers.Dense(units=274, activation='relu'))\n",
    "# ann.add(tf.keras.layers.Dense(units=479, activation='relu'))\n",
    "# ann.add(tf.keras.layers.Dense(units=389, activation='relu'))\n",
    "# ann.add(tf.keras.layers.Dense(units=59, activation='relu'))\n",
    "# ann.add(tf.keras.layers.Dense(units=1, activation='sigmoid'))\n",
    "\n",
    "\n",
    "# ann.compile(loss='binary_crossentropy',\n",
    "#              optimizer='adam',\n",
    "#              metrics=[\n",
    "#                 tf.keras.metrics.BinaryAccuracy(name='accuracy'),\n",
    "#                 tf.keras.metrics.Precision(name='precision'),\n",
    "#                 tf.keras.metrics.Recall(name='recall')\n",
    "#              ])"
   ]
  },
  {
   "cell_type": "code",
   "execution_count": 32,
   "metadata": {},
   "outputs": [
    {
     "name": "stderr",
     "output_type": "stream",
     "text": [
      "2022-04-11 16:44:29.551088: I tensorflow/compiler/jit/xla_cpu_device.cc:41] Not creating XLA devices, tf_xla_enable_xla_devices not set\n",
      "2022-04-11 16:44:29.551530: W tensorflow/stream_executor/platform/default/dso_loader.cc:60] Could not load dynamic library 'libcuda.so.1'; dlerror: libcuda.so.1: cannot open shared object file: No such file or directory\n",
      "2022-04-11 16:44:29.551549: W tensorflow/stream_executor/cuda/cuda_driver.cc:326] failed call to cuInit: UNKNOWN ERROR (303)\n",
      "2022-04-11 16:44:29.551574: I tensorflow/stream_executor/cuda/cuda_diagnostics.cc:156] kernel driver does not appear to be running on this host (RSPL-346): /proc/driver/nvidia/version does not exist\n",
      "2022-04-11 16:44:29.551849: I tensorflow/core/platform/cpu_feature_guard.cc:142] This TensorFlow binary is optimized with oneAPI Deep Neural Network Library (oneDNN) to use the following CPU instructions in performance-critical operations:  SSE4.1 SSE4.2 AVX AVX2 FMA\n",
      "To enable them in other operations, rebuild TensorFlow with the appropriate compiler flags.\n",
      "2022-04-11 16:44:29.552491: I tensorflow/compiler/jit/xla_gpu_device.cc:99] Not creating XLA devices, tf_xla_enable_xla_devices not set\n"
     ]
    }
   ],
   "source": [
    "ann = tf.keras.models.Sequential()\n",
    "\n",
    "ann.add(tf.keras.layers.Dense(units=7, activation='relu'))\n",
    "ann.add(tf.keras.layers.Dense(units=132, activation='relu'))\n",
    "ann.add(tf.keras.layers.Dense(units=279, activation='relu'))\n",
    "ann.add(tf.keras.layers.Dense(units=423, activation='relu'))\n",
    "ann.add(tf.keras.layers.Dense(units=579, activation='relu'))\n",
    "ann.add(tf.keras.layers.Dense(units=456, activation='relu'))\n",
    "ann.add(tf.keras.layers.Dense(units=303, activation='relu'))\n",
    "ann.add(tf.keras.layers.Dense(units=154, activation='relu'))\n",
    "ann.add(tf.keras.layers.Dense(units=1, activation='sigmoid'))\n",
    "\n",
    "\n",
    "ann.compile(loss='binary_crossentropy',\n",
    "             optimizer='adam',\n",
    "             metrics=[\n",
    "                tf.keras.metrics.BinaryAccuracy(name='accuracy'),\n",
    "                tf.keras.metrics.Precision(name='precision'),\n",
    "                tf.keras.metrics.Recall(name='recall')\n",
    "             ])"
   ]
  },
  {
   "cell_type": "code",
   "execution_count": 33,
   "metadata": {},
   "outputs": [],
   "source": [
    "# from sklearn.model_selection import cross_val_score\n",
    "# accuracies = cross_val_score(estimator=ann, X=X_train, y=y_train, cv= 10)\n",
    "# print(f'Accuracies: {accuracies}')\n",
    "# print('Mean Accuracy: {:.2f}'.format(accuracies.mean()))\n",
    "# print('Standard Deviation of Accuracies: {:.2f}'.format(accuracies.std()))\n"
   ]
  },
  {
   "cell_type": "code",
   "execution_count": 34,
   "metadata": {},
   "outputs": [
    {
     "name": "stderr",
     "output_type": "stream",
     "text": [
      "2022-04-11 16:44:29.675653: I tensorflow/compiler/mlir/mlir_graph_optimization_pass.cc:116] None of the MLIR optimization passes are enabled (registered 2)\n",
      "2022-04-11 16:44:29.698408: I tensorflow/core/platform/profile_utils/cpu_utils.cc:112] CPU Frequency: 1999965000 Hz\n"
     ]
    },
    {
     "name": "stdout",
     "output_type": "stream",
     "text": [
      "Epoch 1/20\n",
      "43/43 [==============================] - 1s 7ms/step - loss: 0.5777 - accuracy: 0.6667 - precision: 0.4300 - recall: 0.2837\n",
      "Epoch 2/20\n",
      "43/43 [==============================] - 0s 7ms/step - loss: 0.5031 - accuracy: 0.7393 - precision: 0.6051 - recall: 0.6368\n",
      "Epoch 3/20\n",
      "43/43 [==============================] - 0s 8ms/step - loss: 0.4728 - accuracy: 0.7498 - precision: 0.6128 - recall: 0.5570\n",
      "Epoch 4/20\n",
      "43/43 [==============================] - 0s 7ms/step - loss: 0.4611 - accuracy: 0.7702 - precision: 0.6606 - recall: 0.5649\n",
      "Epoch 5/20\n",
      "43/43 [==============================] - 0s 7ms/step - loss: 0.4735 - accuracy: 0.7624 - precision: 0.6581 - recall: 0.5859\n",
      "Epoch 6/20\n",
      "43/43 [==============================] - 0s 8ms/step - loss: 0.4691 - accuracy: 0.7627 - precision: 0.6660 - recall: 0.6271\n",
      "Epoch 7/20\n",
      "43/43 [==============================] - 0s 7ms/step - loss: 0.4288 - accuracy: 0.7938 - precision: 0.6864 - recall: 0.7223\n",
      "Epoch 8/20\n",
      "43/43 [==============================] - 0s 7ms/step - loss: 0.4304 - accuracy: 0.7965 - precision: 0.7188 - recall: 0.7087\n",
      "Epoch 9/20\n",
      "43/43 [==============================] - 0s 7ms/step - loss: 0.4172 - accuracy: 0.8002 - precision: 0.6967 - recall: 0.6888\n",
      "Epoch 10/20\n",
      "43/43 [==============================] - 0s 6ms/step - loss: 0.3978 - accuracy: 0.8157 - precision: 0.7289 - recall: 0.7163\n",
      "Epoch 11/20\n",
      "43/43 [==============================] - 0s 7ms/step - loss: 0.3581 - accuracy: 0.8285 - precision: 0.7740 - recall: 0.6895\n",
      "Epoch 12/20\n",
      "43/43 [==============================] - 0s 7ms/step - loss: 0.3568 - accuracy: 0.8184 - precision: 0.7412 - recall: 0.7202\n",
      "Epoch 13/20\n",
      "43/43 [==============================] - 0s 7ms/step - loss: 0.3098 - accuracy: 0.8576 - precision: 0.8311 - recall: 0.7178\n",
      "Epoch 14/20\n",
      "43/43 [==============================] - 0s 7ms/step - loss: 0.3018 - accuracy: 0.8583 - precision: 0.8233 - recall: 0.7305\n",
      "Epoch 15/20\n",
      "43/43 [==============================] - 0s 7ms/step - loss: 0.3177 - accuracy: 0.8422 - precision: 0.7548 - recall: 0.7847\n",
      "Epoch 16/20\n",
      "43/43 [==============================] - 0s 8ms/step - loss: 0.2963 - accuracy: 0.8545 - precision: 0.7480 - recall: 0.8289\n",
      "Epoch 17/20\n",
      "43/43 [==============================] - 0s 8ms/step - loss: 0.2611 - accuracy: 0.8722 - precision: 0.8092 - recall: 0.7883\n",
      "Epoch 18/20\n",
      "43/43 [==============================] - 0s 7ms/step - loss: 0.2611 - accuracy: 0.8832 - precision: 0.8263 - recall: 0.8103\n",
      "Epoch 19/20\n",
      "43/43 [==============================] - 0s 7ms/step - loss: 0.2907 - accuracy: 0.8545 - precision: 0.8172 - recall: 0.7521\n",
      "Epoch 20/20\n",
      "43/43 [==============================] - 0s 7ms/step - loss: 0.2533 - accuracy: 0.8818 - precision: 0.8497 - recall: 0.7992\n",
      "0.7960526315789473\n",
      "0.7142857142857143\n",
      "0.6451612903225806\n",
      "0.5633802816901409\n",
      "Epoch 1/20\n",
      "43/43 [==============================] - 0s 7ms/step - loss: 0.2861 - accuracy: 0.8801 - precision: 0.8462 - recall: 0.7715\n",
      "Epoch 2/20\n",
      "43/43 [==============================] - 0s 7ms/step - loss: 0.2452 - accuracy: 0.9007 - precision: 0.8404 - recall: 0.8575\n",
      "Epoch 3/20\n",
      "43/43 [==============================] - 0s 7ms/step - loss: 0.2484 - accuracy: 0.9081 - precision: 0.8838 - recall: 0.8258\n",
      "Epoch 4/20\n",
      "43/43 [==============================] - 0s 8ms/step - loss: 0.2041 - accuracy: 0.9154 - precision: 0.8724 - recall: 0.8665\n",
      "Epoch 5/20\n",
      "43/43 [==============================] - 0s 7ms/step - loss: 0.2320 - accuracy: 0.8993 - precision: 0.8571 - recall: 0.8281\n",
      "Epoch 6/20\n",
      "43/43 [==============================] - 0s 7ms/step - loss: 0.2008 - accuracy: 0.9191 - precision: 0.8756 - recall: 0.8756\n",
      "Epoch 7/20\n",
      "43/43 [==============================] - 0s 7ms/step - loss: 0.1847 - accuracy: 0.9191 - precision: 0.8843 - recall: 0.8643\n",
      "Epoch 8/20\n",
      "43/43 [==============================] - 0s 7ms/step - loss: 0.1843 - accuracy: 0.9169 - precision: 0.8817 - recall: 0.8597\n",
      "Epoch 9/20\n",
      "43/43 [==============================] - 0s 7ms/step - loss: 0.1735 - accuracy: 0.9316 - precision: 0.8993 - recall: 0.8891\n",
      "Epoch 10/20\n",
      "43/43 [==============================] - 0s 7ms/step - loss: 0.1802 - accuracy: 0.9316 - precision: 0.9049 - recall: 0.8824\n",
      "Epoch 11/20\n",
      "43/43 [==============================] - 0s 7ms/step - loss: 0.1685 - accuracy: 0.9324 - precision: 0.9089 - recall: 0.8801\n",
      "Epoch 12/20\n",
      "43/43 [==============================] - 0s 7ms/step - loss: 0.1480 - accuracy: 0.9412 - precision: 0.9249 - recall: 0.8914\n",
      "Epoch 13/20\n",
      "43/43 [==============================] - 0s 7ms/step - loss: 0.1369 - accuracy: 0.9412 - precision: 0.9151 - recall: 0.9027\n",
      "Epoch 14/20\n",
      "43/43 [==============================] - 0s 7ms/step - loss: 0.1588 - accuracy: 0.9338 - precision: 0.9018 - recall: 0.8937\n",
      "Epoch 15/20\n",
      "43/43 [==============================] - 0s 7ms/step - loss: 0.1434 - accuracy: 0.9390 - precision: 0.9367 - recall: 0.8710\n",
      "Epoch 16/20\n",
      "43/43 [==============================] - 0s 7ms/step - loss: 0.1436 - accuracy: 0.9426 - precision: 0.9483 - recall: 0.8710\n",
      "Epoch 17/20\n",
      "43/43 [==============================] - 0s 7ms/step - loss: 0.1639 - accuracy: 0.9324 - precision: 0.8959 - recall: 0.8959\n",
      "Epoch 18/20\n",
      "43/43 [==============================] - 0s 7ms/step - loss: 0.1304 - accuracy: 0.9456 - precision: 0.9126 - recall: 0.9208\n",
      "Epoch 19/20\n",
      "43/43 [==============================] - 0s 7ms/step - loss: 0.1088 - accuracy: 0.9596 - precision: 0.9469 - recall: 0.9276\n",
      "Epoch 20/20\n",
      "43/43 [==============================] - 0s 7ms/step - loss: 0.1359 - accuracy: 0.9353 - precision: 0.9060 - recall: 0.8937\n",
      "0.8552631578947368\n",
      "0.9019607843137255\n",
      "0.8614232209737828\n",
      "0.8070175438596492\n",
      "Epoch 1/20\n",
      "43/43 [==============================] - 0s 7ms/step - loss: 0.1268 - accuracy: 0.9493 - precision: 0.9369 - recall: 0.9103\n",
      "Epoch 2/20\n",
      "43/43 [==============================] - 0s 7ms/step - loss: 0.1324 - accuracy: 0.9449 - precision: 0.9442 - recall: 0.8884\n",
      "Epoch 3/20\n",
      "43/43 [==============================] - 0s 7ms/step - loss: 0.1571 - accuracy: 0.9383 - precision: 0.9307 - recall: 0.8818\n",
      "Epoch 4/20\n",
      "43/43 [==============================] - 0s 8ms/step - loss: 0.1122 - accuracy: 0.9537 - precision: 0.9339 - recall: 0.9278\n",
      "Epoch 5/20\n",
      "43/43 [==============================] - 0s 7ms/step - loss: 0.0915 - accuracy: 0.9662 - precision: 0.9660 - recall: 0.9322\n",
      "Epoch 6/20\n",
      "43/43 [==============================] - 0s 7ms/step - loss: 0.0868 - accuracy: 0.9677 - precision: 0.9683 - recall: 0.9344\n",
      "Epoch 7/20\n",
      "43/43 [==============================] - 0s 8ms/step - loss: 0.0918 - accuracy: 0.9640 - precision: 0.9554 - recall: 0.9365\n",
      "Epoch 8/20\n",
      "43/43 [==============================] - 0s 7ms/step - loss: 0.0942 - accuracy: 0.9566 - precision: 0.9442 - recall: 0.9256\n",
      "Epoch 9/20\n",
      "43/43 [==============================] - 0s 6ms/step - loss: 0.1619 - accuracy: 0.9383 - precision: 0.9046 - recall: 0.9125\n",
      "Epoch 10/20\n",
      "43/43 [==============================] - 0s 7ms/step - loss: 0.1586 - accuracy: 0.9456 - precision: 0.9570 - recall: 0.8775\n",
      "Epoch 11/20\n",
      "43/43 [==============================] - 0s 7ms/step - loss: 0.1346 - accuracy: 0.9486 - precision: 0.9290 - recall: 0.9168\n",
      "Epoch 12/20\n",
      "43/43 [==============================] - 0s 7ms/step - loss: 0.1116 - accuracy: 0.9530 - precision: 0.9497 - recall: 0.9081\n",
      "Epoch 13/20\n",
      "43/43 [==============================] - 0s 6ms/step - loss: 0.1360 - accuracy: 0.9552 - precision: 0.9459 - recall: 0.9190\n",
      "Epoch 14/20\n",
      "43/43 [==============================] - 0s 7ms/step - loss: 0.1006 - accuracy: 0.9640 - precision: 0.9595 - recall: 0.9322\n",
      "Epoch 15/20\n",
      "43/43 [==============================] - 0s 7ms/step - loss: 0.1013 - accuracy: 0.9677 - precision: 0.9579 - recall: 0.9453\n",
      "Epoch 16/20\n",
      "43/43 [==============================] - 0s 7ms/step - loss: 0.0623 - accuracy: 0.9772 - precision: 0.9797 - recall: 0.9519\n",
      "Epoch 17/20\n",
      "43/43 [==============================] - 0s 7ms/step - loss: 0.1352 - accuracy: 0.9537 - precision: 0.9477 - recall: 0.9125\n",
      "Epoch 18/20\n",
      "43/43 [==============================] - 0s 7ms/step - loss: 0.1191 - accuracy: 0.9493 - precision: 0.9619 - recall: 0.8840\n",
      "Epoch 19/20\n",
      "43/43 [==============================] - 0s 7ms/step - loss: 0.0829 - accuracy: 0.9699 - precision: 0.9706 - recall: 0.9387\n",
      "Epoch 20/20\n",
      "43/43 [==============================] - 0s 7ms/step - loss: 0.0959 - accuracy: 0.9677 - precision: 0.9599 - recall: 0.9431\n",
      "0.9668874172185431\n",
      "0.9777777777777777\n",
      "0.9649122807017544\n",
      "0.946236559139785\n",
      "Epoch 1/20\n",
      "43/43 [==============================] - 0s 7ms/step - loss: 0.0895 - accuracy: 0.9647 - precision: 0.9564 - recall: 0.9400\n",
      "Epoch 2/20\n",
      "43/43 [==============================] - 0s 8ms/step - loss: 0.0760 - accuracy: 0.9721 - precision: 0.9593 - recall: 0.9593\n",
      "Epoch 3/20\n",
      "43/43 [==============================] - 0s 8ms/step - loss: 0.0702 - accuracy: 0.9743 - precision: 0.9675 - recall: 0.9572\n",
      "Epoch 4/20\n",
      "43/43 [==============================] - 0s 8ms/step - loss: 0.0871 - accuracy: 0.9750 - precision: 0.9636 - recall: 0.9636\n",
      "Epoch 5/20\n",
      "43/43 [==============================] - 0s 10ms/step - loss: 0.1032 - accuracy: 0.9574 - precision: 0.9234 - recall: 0.9550\n",
      "Epoch 6/20\n",
      "43/43 [==============================] - 0s 7ms/step - loss: 0.0752 - accuracy: 0.9684 - precision: 0.9629 - recall: 0.9443\n",
      "Epoch 7/20\n",
      "43/43 [==============================] - 0s 7ms/step - loss: 0.1266 - accuracy: 0.9574 - precision: 0.9323 - recall: 0.9443\n",
      "Epoch 8/20\n",
      "43/43 [==============================] - 0s 7ms/step - loss: 0.0650 - accuracy: 0.9750 - precision: 0.9717 - recall: 0.9550\n",
      "Epoch 9/20\n",
      "43/43 [==============================] - 0s 7ms/step - loss: 0.0613 - accuracy: 0.9728 - precision: 0.9694 - recall: 0.9507\n",
      "Epoch 10/20\n",
      "43/43 [==============================] - 0s 6ms/step - loss: 0.0528 - accuracy: 0.9780 - precision: 0.9760 - recall: 0.9593\n",
      "Epoch 11/20\n",
      "43/43 [==============================] - 0s 7ms/step - loss: 0.0570 - accuracy: 0.9780 - precision: 0.9740 - recall: 0.9615\n",
      "Epoch 12/20\n",
      "43/43 [==============================] - 0s 6ms/step - loss: 0.0439 - accuracy: 0.9802 - precision: 0.9762 - recall: 0.9657\n",
      "Epoch 13/20\n",
      "43/43 [==============================] - 0s 6ms/step - loss: 0.0431 - accuracy: 0.9831 - precision: 0.9890 - recall: 0.9615\n",
      "Epoch 14/20\n",
      "43/43 [==============================] - 0s 6ms/step - loss: 0.0660 - accuracy: 0.9787 - precision: 0.9740 - recall: 0.9636\n",
      "Epoch 15/20\n",
      "43/43 [==============================] - 0s 6ms/step - loss: 0.0453 - accuracy: 0.9802 - precision: 0.9846 - recall: 0.9572\n",
      "Epoch 16/20\n",
      "43/43 [==============================] - 0s 6ms/step - loss: 0.0621 - accuracy: 0.9765 - precision: 0.9718 - recall: 0.9593\n",
      "Epoch 17/20\n",
      "43/43 [==============================] - 0s 6ms/step - loss: 0.0839 - accuracy: 0.9699 - precision: 0.9712 - recall: 0.9400\n",
      "Epoch 18/20\n",
      "43/43 [==============================] - 0s 6ms/step - loss: 0.1654 - accuracy: 0.9383 - precision: 0.8998 - recall: 0.9229\n",
      "Epoch 19/20\n",
      "43/43 [==============================] - 0s 6ms/step - loss: 0.1063 - accuracy: 0.9596 - precision: 0.9459 - recall: 0.9358\n",
      "Epoch 20/20\n",
      "43/43 [==============================] - 0s 6ms/step - loss: 0.0682 - accuracy: 0.9758 - precision: 0.9677 - recall: 0.9615\n",
      "0.9933774834437086\n",
      "0.9743589743589743\n",
      "0.9793814432989689\n",
      "0.9870129870129869\n",
      "Epoch 1/20\n",
      "43/43 [==============================] - 0s 6ms/step - loss: 0.0561 - accuracy: 0.9838 - precision: 0.9774 - recall: 0.9730\n",
      "Epoch 2/20\n",
      "43/43 [==============================] - 0s 7ms/step - loss: 0.0873 - accuracy: 0.9713 - precision: 0.9765 - recall: 0.9347\n",
      "Epoch 3/20\n",
      "43/43 [==============================] - 0s 6ms/step - loss: 0.0611 - accuracy: 0.9765 - precision: 0.9725 - recall: 0.9550\n",
      "Epoch 4/20\n",
      "43/43 [==============================] - 0s 7ms/step - loss: 0.0440 - accuracy: 0.9816 - precision: 0.9794 - recall: 0.9640\n",
      "Epoch 5/20\n",
      "43/43 [==============================] - 0s 10ms/step - loss: 0.0353 - accuracy: 0.9846 - precision: 0.9818 - recall: 0.9707\n",
      "Epoch 6/20\n",
      "43/43 [==============================] - 0s 8ms/step - loss: 0.0323 - accuracy: 0.9846 - precision: 0.9753 - recall: 0.9775\n",
      "Epoch 7/20\n",
      "43/43 [==============================] - 0s 7ms/step - loss: 0.0431 - accuracy: 0.9853 - precision: 0.9930 - recall: 0.9617\n",
      "Epoch 8/20\n",
      "43/43 [==============================] - 0s 7ms/step - loss: 0.0828 - accuracy: 0.9787 - precision: 0.9770 - recall: 0.9572\n",
      "Epoch 9/20\n",
      "43/43 [==============================] - 0s 6ms/step - loss: 0.0518 - accuracy: 0.9831 - precision: 0.9817 - recall: 0.9662\n",
      "Epoch 10/20\n",
      "43/43 [==============================] - 0s 6ms/step - loss: 0.0278 - accuracy: 0.9897 - precision: 0.9864 - recall: 0.9820\n",
      "Epoch 11/20\n",
      "43/43 [==============================] - 0s 7ms/step - loss: 0.0704 - accuracy: 0.9787 - precision: 0.9770 - recall: 0.9572\n",
      "Epoch 12/20\n",
      "43/43 [==============================] - 0s 6ms/step - loss: 0.0352 - accuracy: 0.9853 - precision: 0.9840 - recall: 0.9707\n",
      "Epoch 13/20\n",
      "43/43 [==============================] - 0s 6ms/step - loss: 0.0573 - accuracy: 0.9824 - precision: 0.9751 - recall: 0.9707\n",
      "Epoch 14/20\n",
      "43/43 [==============================] - 0s 7ms/step - loss: 0.1293 - accuracy: 0.9544 - precision: 0.9302 - recall: 0.9302\n",
      "Epoch 15/20\n",
      "43/43 [==============================] - 0s 6ms/step - loss: 0.0820 - accuracy: 0.9713 - precision: 0.9551 - recall: 0.9572\n",
      "Epoch 16/20\n",
      "43/43 [==============================] - 0s 7ms/step - loss: 0.0449 - accuracy: 0.9765 - precision: 0.9682 - recall: 0.9595\n",
      "Epoch 17/20\n",
      "43/43 [==============================] - 0s 9ms/step - loss: 0.0644 - accuracy: 0.9758 - precision: 0.9681 - recall: 0.9572\n",
      "Epoch 18/20\n",
      "43/43 [==============================] - 0s 9ms/step - loss: 0.0447 - accuracy: 0.9838 - precision: 0.9817 - recall: 0.9685\n",
      "Epoch 19/20\n",
      "43/43 [==============================] - 0s 10ms/step - loss: 0.0299 - accuracy: 0.9868 - precision: 0.9797 - recall: 0.9797\n",
      "Epoch 20/20\n",
      "43/43 [==============================] - 0s 9ms/step - loss: 0.0301 - accuracy: 0.9882 - precision: 0.9842 - recall: 0.9797\n",
      "0.9867549668874173\n",
      "1.0\n",
      "0.9932659932659933\n",
      "0.9833333333333333\n",
      "Epoch 1/20\n",
      "43/43 [==============================] - 0s 7ms/step - loss: 0.0540 - accuracy: 0.9794 - precision: 0.9778 - recall: 0.9608\n",
      "Epoch 2/20\n",
      "43/43 [==============================] - 0s 6ms/step - loss: 0.0539 - accuracy: 0.9838 - precision: 0.9823 - recall: 0.9695\n",
      "Epoch 3/20\n",
      "43/43 [==============================] - 0s 6ms/step - loss: 0.0492 - accuracy: 0.9846 - precision: 0.9700 - recall: 0.9847\n",
      "Epoch 4/20\n",
      "43/43 [==============================] - 0s 6ms/step - loss: 0.0539 - accuracy: 0.9831 - precision: 0.9760 - recall: 0.9739\n",
      "Epoch 5/20\n",
      "43/43 [==============================] - 0s 6ms/step - loss: 0.1404 - accuracy: 0.9596 - precision: 0.9612 - recall: 0.9172\n",
      "Epoch 6/20\n",
      "43/43 [==============================] - 0s 6ms/step - loss: 0.1331 - accuracy: 0.9589 - precision: 0.9528 - recall: 0.9237\n",
      "Epoch 7/20\n",
      "43/43 [==============================] - 0s 6ms/step - loss: 0.0955 - accuracy: 0.9721 - precision: 0.9586 - recall: 0.9586\n",
      "Epoch 8/20\n",
      "43/43 [==============================] - 0s 6ms/step - loss: 0.0376 - accuracy: 0.9897 - precision: 0.9890 - recall: 0.9804\n",
      "Epoch 9/20\n",
      "43/43 [==============================] - 0s 6ms/step - loss: 0.0364 - accuracy: 0.9868 - precision: 0.9804 - recall: 0.9804\n",
      "Epoch 10/20\n",
      "43/43 [==============================] - 0s 6ms/step - loss: 0.0270 - accuracy: 0.9890 - precision: 0.9912 - recall: 0.9760\n",
      "Epoch 11/20\n",
      "43/43 [==============================] - 0s 6ms/step - loss: 0.0254 - accuracy: 0.9904 - precision: 0.9869 - recall: 0.9847\n",
      "Epoch 12/20\n",
      "43/43 [==============================] - 0s 11ms/step - loss: 0.0375 - accuracy: 0.9831 - precision: 0.9760 - recall: 0.9739\n",
      "Epoch 13/20\n",
      "43/43 [==============================] - 0s 6ms/step - loss: 0.0381 - accuracy: 0.9838 - precision: 0.9740 - recall: 0.9782\n",
      "Epoch 14/20\n",
      "43/43 [==============================] - 0s 6ms/step - loss: 0.0182 - accuracy: 0.9919 - precision: 0.9912 - recall: 0.9847\n",
      "Epoch 15/20\n",
      "43/43 [==============================] - 0s 6ms/step - loss: 0.0311 - accuracy: 0.9868 - precision: 0.9846 - recall: 0.9760\n",
      "Epoch 16/20\n",
      "43/43 [==============================] - 0s 7ms/step - loss: 0.0252 - accuracy: 0.9897 - precision: 0.9847 - recall: 0.9847\n",
      "Epoch 17/20\n",
      "43/43 [==============================] - 0s 6ms/step - loss: 0.0665 - accuracy: 0.9809 - precision: 0.9656 - recall: 0.9782\n",
      "Epoch 18/20\n",
      "43/43 [==============================] - 0s 6ms/step - loss: 0.0459 - accuracy: 0.9809 - precision: 0.9676 - recall: 0.9760\n",
      "Epoch 19/20\n",
      "43/43 [==============================] - 0s 6ms/step - loss: 0.0244 - accuracy: 0.9912 - precision: 0.9956 - recall: 0.9782\n",
      "Epoch 20/20\n",
      "43/43 [==============================] - 0s 6ms/step - loss: 0.0142 - accuracy: 0.9934 - precision: 0.9956 - recall: 0.9847\n",
      "0.9933774834437086\n",
      "1.0\n",
      "0.9955752212389382\n",
      "0.989010989010989\n",
      "Epoch 1/20\n",
      "43/43 [==============================] - 0s 7ms/step - loss: 0.0613 - accuracy: 0.9846 - precision: 0.9845 - recall: 0.9696\n",
      "Epoch 2/20\n",
      "43/43 [==============================] - 0s 6ms/step - loss: 0.1178 - accuracy: 0.9581 - precision: 0.9390 - recall: 0.9370\n",
      "Epoch 3/20\n",
      "43/43 [==============================] - 0s 6ms/step - loss: 0.0461 - accuracy: 0.9750 - precision: 0.9513 - recall: 0.9761\n",
      "Epoch 4/20\n",
      "43/43 [==============================] - 0s 7ms/step - loss: 0.0269 - accuracy: 0.9904 - precision: 0.9848 - recall: 0.9870\n",
      "Epoch 5/20\n",
      "43/43 [==============================] - 0s 6ms/step - loss: 0.0209 - accuracy: 0.9912 - precision: 0.9956 - recall: 0.9783\n",
      "Epoch 6/20\n",
      "43/43 [==============================] - 0s 6ms/step - loss: 0.0261 - accuracy: 0.9941 - precision: 0.9934 - recall: 0.9891\n",
      "Epoch 7/20\n",
      "43/43 [==============================] - 0s 7ms/step - loss: 0.0362 - accuracy: 0.9875 - precision: 0.9763 - recall: 0.9870\n",
      "Epoch 8/20\n",
      "43/43 [==============================] - 0s 10ms/step - loss: 0.0254 - accuracy: 0.9904 - precision: 0.9848 - recall: 0.9870\n",
      "Epoch 9/20\n",
      "43/43 [==============================] - 0s 9ms/step - loss: 0.0463 - accuracy: 0.9838 - precision: 0.9845 - recall: 0.9674\n",
      "Epoch 10/20\n",
      "43/43 [==============================] - 0s 8ms/step - loss: 0.0228 - accuracy: 0.9904 - precision: 0.9934 - recall: 0.9783\n",
      "Epoch 11/20\n",
      "43/43 [==============================] - 0s 6ms/step - loss: 0.0106 - accuracy: 0.9963 - precision: 0.9978 - recall: 0.9913\n",
      "Epoch 12/20\n",
      "43/43 [==============================] - 0s 6ms/step - loss: 0.0140 - accuracy: 0.9941 - precision: 0.9934 - recall: 0.9891\n",
      "Epoch 13/20\n",
      "43/43 [==============================] - 0s 6ms/step - loss: 0.0154 - accuracy: 0.9934 - precision: 0.9892 - recall: 0.9913\n",
      "Epoch 14/20\n",
      "43/43 [==============================] - 1s 12ms/step - loss: 0.0101 - accuracy: 0.9949 - precision: 0.9956 - recall: 0.9891\n",
      "Epoch 15/20\n",
      "43/43 [==============================] - 0s 7ms/step - loss: 0.0071 - accuracy: 0.9963 - precision: 0.9978 - recall: 0.9913\n",
      "Epoch 16/20\n",
      "43/43 [==============================] - 0s 6ms/step - loss: 0.0056 - accuracy: 0.9978 - precision: 0.9978 - recall: 0.9957\n",
      "Epoch 17/20\n",
      "43/43 [==============================] - 0s 7ms/step - loss: 0.0048 - accuracy: 0.9978 - precision: 0.9978 - recall: 0.9957\n",
      "Epoch 18/20\n",
      "43/43 [==============================] - 0s 6ms/step - loss: 0.0046 - accuracy: 0.9978 - precision: 0.9978 - recall: 0.9957\n",
      "Epoch 19/20\n",
      "43/43 [==============================] - 0s 6ms/step - loss: 0.0045 - accuracy: 0.9971 - precision: 0.9978 - recall: 0.9935\n",
      "Epoch 20/20\n",
      "43/43 [==============================] - 0s 6ms/step - loss: 0.0041 - accuracy: 0.9978 - precision: 0.9978 - recall: 0.9957\n",
      "0.9933774834437086\n",
      "0.9782608695652174\n",
      "0.982532751091703\n",
      "0.989010989010989\n",
      "Epoch 1/20\n",
      "43/43 [==============================] - 0s 6ms/step - loss: 0.0048 - accuracy: 0.9971 - precision: 0.9977 - recall: 0.9933\n",
      "Epoch 2/20\n",
      "43/43 [==============================] - 0s 6ms/step - loss: 0.0042 - accuracy: 0.9978 - precision: 1.0000 - recall: 0.9933\n",
      "Epoch 3/20\n",
      "43/43 [==============================] - 0s 7ms/step - loss: 0.0319 - accuracy: 0.9912 - precision: 0.9822 - recall: 0.9910\n",
      "Epoch 4/20\n",
      "43/43 [==============================] - 0s 6ms/step - loss: 0.1244 - accuracy: 0.9603 - precision: 0.9474 - recall: 0.9303\n",
      "Epoch 5/20\n",
      "43/43 [==============================] - 0s 7ms/step - loss: 0.0728 - accuracy: 0.9772 - precision: 0.9705 - recall: 0.9596\n",
      "Epoch 6/20\n",
      "43/43 [==============================] - 0s 6ms/step - loss: 0.0800 - accuracy: 0.9765 - precision: 0.9725 - recall: 0.9551\n",
      "Epoch 7/20\n",
      "43/43 [==============================] - 0s 6ms/step - loss: 0.0642 - accuracy: 0.9824 - precision: 0.9752 - recall: 0.9708\n",
      "Epoch 8/20\n",
      "43/43 [==============================] - 0s 6ms/step - loss: 0.0574 - accuracy: 0.9787 - precision: 0.9771 - recall: 0.9573\n",
      "Epoch 9/20\n",
      "43/43 [==============================] - 0s 6ms/step - loss: 0.0474 - accuracy: 0.9838 - precision: 0.9774 - recall: 0.9730\n",
      "Epoch 10/20\n",
      "43/43 [==============================] - 0s 7ms/step - loss: 0.0598 - accuracy: 0.9780 - precision: 0.9601 - recall: 0.9730\n",
      "Epoch 11/20\n",
      "43/43 [==============================] - 0s 6ms/step - loss: 0.0459 - accuracy: 0.9831 - precision: 0.9752 - recall: 0.9730\n",
      "Epoch 12/20\n",
      "43/43 [==============================] - 0s 6ms/step - loss: 0.0367 - accuracy: 0.9853 - precision: 0.9841 - recall: 0.9708\n",
      "Epoch 13/20\n",
      "43/43 [==============================] - 0s 6ms/step - loss: 0.0292 - accuracy: 0.9897 - precision: 0.9909 - recall: 0.9775\n",
      "Epoch 14/20\n",
      "43/43 [==============================] - 0s 7ms/step - loss: 0.0102 - accuracy: 0.9971 - precision: 0.9933 - recall: 0.9978\n",
      "Epoch 15/20\n",
      "43/43 [==============================] - 0s 6ms/step - loss: 0.0090 - accuracy: 0.9971 - precision: 0.9955 - recall: 0.9955\n",
      "Epoch 16/20\n",
      "43/43 [==============================] - 0s 7ms/step - loss: 0.0593 - accuracy: 0.9846 - precision: 0.9753 - recall: 0.9775\n",
      "Epoch 17/20\n",
      "43/43 [==============================] - 0s 6ms/step - loss: 0.1136 - accuracy: 0.9640 - precision: 0.9342 - recall: 0.9573\n",
      "Epoch 18/20\n",
      "43/43 [==============================] - 0s 7ms/step - loss: 0.0469 - accuracy: 0.9868 - precision: 0.9798 - recall: 0.9798\n",
      "Epoch 19/20\n",
      "43/43 [==============================] - 0s 7ms/step - loss: 0.0375 - accuracy: 0.9860 - precision: 0.9797 - recall: 0.9775\n",
      "Epoch 20/20\n",
      "43/43 [==============================] - 0s 8ms/step - loss: 0.0562 - accuracy: 0.9802 - precision: 0.9665 - recall: 0.9730\n",
      "1.0\n",
      "1.0\n",
      "1.0\n",
      "1.0\n",
      "Epoch 1/20\n",
      "43/43 [==============================] - 0s 7ms/step - loss: 0.0304 - accuracy: 0.9897 - precision: 0.9866 - recall: 0.9822\n",
      "Epoch 2/20\n",
      "43/43 [==============================] - 0s 7ms/step - loss: 0.0870 - accuracy: 0.9758 - precision: 0.9581 - recall: 0.9688\n",
      "Epoch 3/20\n",
      "43/43 [==============================] - 0s 10ms/step - loss: 0.0292 - accuracy: 0.9904 - precision: 0.9781 - recall: 0.9933\n",
      "Epoch 4/20\n",
      "43/43 [==============================] - 0s 11ms/step - loss: 0.0274 - accuracy: 0.9897 - precision: 0.9780 - recall: 0.9911\n",
      "Epoch 5/20\n",
      "43/43 [==============================] - 0s 9ms/step - loss: 0.0530 - accuracy: 0.9846 - precision: 0.9820 - recall: 0.9710\n",
      "Epoch 6/20\n",
      "43/43 [==============================] - 0s 6ms/step - loss: 0.0193 - accuracy: 0.9934 - precision: 0.9867 - recall: 0.9933\n",
      "Epoch 7/20\n",
      "43/43 [==============================] - 0s 8ms/step - loss: 0.0585 - accuracy: 0.9890 - precision: 0.9865 - recall: 0.9800\n",
      "Epoch 8/20\n",
      "43/43 [==============================] - 0s 6ms/step - loss: 0.0440 - accuracy: 0.9868 - precision: 0.9800 - recall: 0.9800\n",
      "Epoch 9/20\n",
      "43/43 [==============================] - 0s 6ms/step - loss: 0.0168 - accuracy: 0.9956 - precision: 0.9933 - recall: 0.9933\n",
      "Epoch 10/20\n",
      "43/43 [==============================] - 0s 6ms/step - loss: 0.0335 - accuracy: 0.9912 - precision: 0.9866 - recall: 0.9866\n",
      "Epoch 11/20\n",
      "43/43 [==============================] - 0s 6ms/step - loss: 0.0342 - accuracy: 0.9912 - precision: 0.9845 - recall: 0.9889\n",
      "Epoch 12/20\n",
      "43/43 [==============================] - 0s 6ms/step - loss: 0.0121 - accuracy: 0.9956 - precision: 1.0000 - recall: 0.9866\n",
      "Epoch 13/20\n",
      "43/43 [==============================] - 0s 6ms/step - loss: 0.0077 - accuracy: 0.9978 - precision: 1.0000 - recall: 0.9933\n",
      "Epoch 14/20\n",
      "43/43 [==============================] - 0s 6ms/step - loss: 0.0066 - accuracy: 0.9985 - precision: 1.0000 - recall: 0.9955\n",
      "Epoch 15/20\n",
      "43/43 [==============================] - 0s 7ms/step - loss: 0.0088 - accuracy: 0.9963 - precision: 0.9955 - recall: 0.9933\n",
      "Epoch 16/20\n",
      "43/43 [==============================] - 0s 7ms/step - loss: 0.0064 - accuracy: 0.9978 - precision: 0.9978 - recall: 0.9955\n",
      "Epoch 17/20\n",
      "43/43 [==============================] - 0s 6ms/step - loss: 0.0054 - accuracy: 0.9978 - precision: 1.0000 - recall: 0.9933\n",
      "Epoch 18/20\n",
      "43/43 [==============================] - 0s 6ms/step - loss: 0.0220 - accuracy: 0.9934 - precision: 0.9911 - recall: 0.9889\n",
      "Epoch 19/20\n",
      "43/43 [==============================] - 0s 6ms/step - loss: 0.0089 - accuracy: 0.9971 - precision: 0.9978 - recall: 0.9933\n",
      "Epoch 20/20\n",
      "43/43 [==============================] - 0s 6ms/step - loss: 0.0048 - accuracy: 0.9978 - precision: 0.9978 - recall: 0.9955\n",
      "0.9933774834437086\n",
      "1.0\n",
      "0.9963768115942028\n",
      "0.9909909909909909\n",
      "Epoch 1/20\n",
      "43/43 [==============================] - 0s 7ms/step - loss: 0.0399 - accuracy: 0.9912 - precision: 0.9891 - recall: 0.9848\n",
      "Epoch 2/20\n",
      "43/43 [==============================] - 0s 7ms/step - loss: 0.0311 - accuracy: 0.9882 - precision: 0.9826 - recall: 0.9826\n",
      "Epoch 3/20\n",
      "43/43 [==============================] - 0s 6ms/step - loss: 0.0576 - accuracy: 0.9846 - precision: 0.9700 - recall: 0.9848\n",
      "Epoch 4/20\n",
      "43/43 [==============================] - 0s 7ms/step - loss: 0.0746 - accuracy: 0.9787 - precision: 0.9575 - recall: 0.9804\n",
      "Epoch 5/20\n",
      "43/43 [==============================] - 0s 6ms/step - loss: 0.0708 - accuracy: 0.9816 - precision: 0.9698 - recall: 0.9761\n",
      "Epoch 6/20\n",
      "43/43 [==============================] - 0s 6ms/step - loss: 0.0325 - accuracy: 0.9890 - precision: 0.9890 - recall: 0.9783\n",
      "Epoch 7/20\n",
      "43/43 [==============================] - 0s 7ms/step - loss: 0.0411 - accuracy: 0.9912 - precision: 0.9912 - recall: 0.9826\n",
      "Epoch 8/20\n",
      "43/43 [==============================] - 0s 7ms/step - loss: 0.0072 - accuracy: 0.9963 - precision: 0.9956 - recall: 0.9935\n",
      "Epoch 9/20\n",
      "43/43 [==============================] - 0s 7ms/step - loss: 0.0060 - accuracy: 0.9985 - precision: 1.0000 - recall: 0.9957\n",
      "Epoch 10/20\n",
      "43/43 [==============================] - 0s 7ms/step - loss: 0.0034 - accuracy: 0.9985 - precision: 1.0000 - recall: 0.9957\n",
      "Epoch 11/20\n",
      "43/43 [==============================] - 0s 6ms/step - loss: 0.0028 - accuracy: 0.9985 - precision: 1.0000 - recall: 0.9957\n",
      "Epoch 12/20\n",
      "43/43 [==============================] - 0s 6ms/step - loss: 0.0444 - accuracy: 0.9904 - precision: 0.9848 - recall: 0.9870\n",
      "Epoch 13/20\n",
      "43/43 [==============================] - 0s 6ms/step - loss: 0.1028 - accuracy: 0.9721 - precision: 0.9839 - recall: 0.9326\n",
      "Epoch 14/20\n",
      "43/43 [==============================] - 0s 7ms/step - loss: 0.0504 - accuracy: 0.9824 - precision: 0.9888 - recall: 0.9587\n",
      "Epoch 15/20\n",
      "43/43 [==============================] - 0s 7ms/step - loss: 0.0269 - accuracy: 0.9912 - precision: 0.9934 - recall: 0.9804\n",
      "Epoch 16/20\n",
      "43/43 [==============================] - 0s 9ms/step - loss: 0.0306 - accuracy: 0.9904 - precision: 0.9934 - recall: 0.9783\n",
      "Epoch 17/20\n",
      "43/43 [==============================] - 0s 9ms/step - loss: 0.0208 - accuracy: 0.9912 - precision: 0.9891 - recall: 0.9848\n",
      "Epoch 18/20\n",
      "43/43 [==============================] - 0s 7ms/step - loss: 0.0130 - accuracy: 0.9934 - precision: 0.9934 - recall: 0.9870\n",
      "Epoch 19/20\n",
      "43/43 [==============================] - 0s 6ms/step - loss: 0.0227 - accuracy: 0.9934 - precision: 0.9913 - recall: 0.9891\n",
      "Epoch 20/20\n",
      "43/43 [==============================] - 0s 7ms/step - loss: 0.0407 - accuracy: 0.9860 - precision: 0.9868 - recall: 0.9717\n",
      "0.9933774834437086\n",
      "1.0\n",
      "0.9954751131221717\n",
      "0.9887640449438202\n"
     ]
    }
   ],
   "source": [
    "from sklearn.model_selection import KFold\n",
    "from sklearn.preprocessing import StandardScaler\n",
    "from sklearn.metrics import accuracy_score, precision_score,fbeta_score, f1_score\n",
    "\n",
    "n_split=10\n",
    "\n",
    "for train_index,test_index in KFold(n_split).split(X_train):\n",
    "  x_train,x_test=X[train_index],X[test_index]\n",
    "  y_train,y_test=y[train_index],y[test_index]\n",
    "\n",
    "  sc = StandardScaler()\n",
    "  x_train = sc.fit_transform(x_train)\n",
    "  x_test = sc.transform(x_test)\n",
    "  \n",
    "  \n",
    "  ann.fit(x_train, y_train, epochs=20)\n",
    "  y_pred = ann.predict(x_test)\n",
    "  y_pred = np.array([0  if i<0.5 else 1 for i in y_pred])\n",
    "\n",
    "  # ann.evaluate(x_test, y_test)\n",
    "\n",
    "  print(accuracy_score(y_test,y_pred))\n",
    "  print(precision_score(y_test, y_pred))\n",
    "  print(fbeta_score(y_test, y_pred, beta=0.5))\n",
    "  print(f1_score(y_test, y_pred))"
   ]
  },
  {
   "cell_type": "code",
   "execution_count": 35,
   "metadata": {},
   "outputs": [],
   "source": [
    "# ann.fit(X_train, y_train, batch_size=32, epochs=420)"
   ]
  },
  {
   "cell_type": "code",
   "execution_count": 36,
   "metadata": {},
   "outputs": [],
   "source": [
    "Y_pred = ann.predict(X_test)\n",
    "Y_pred = np.array([0  if i<0.5 else 1 for i in Y_pred])"
   ]
  },
  {
   "cell_type": "code",
   "execution_count": 37,
   "metadata": {},
   "outputs": [
    {
     "data": {
      "text/plain": [
       "array([[254,   1],\n",
       "       [  5, 118]])"
      ]
     },
     "execution_count": 37,
     "metadata": {},
     "output_type": "execute_result"
    }
   ],
   "source": [
    "from sklearn.metrics import confusion_matrix\n",
    "confusion_matrix(Y_test, Y_pred) "
   ]
  },
  {
   "cell_type": "code",
   "execution_count": 38,
   "metadata": {},
   "outputs": [
    {
     "name": "stdout",
     "output_type": "stream",
     "text": [
      "0.9841269841269841\n",
      "0.9915966386554622\n",
      "0.9849749582637729\n",
      "0.9752066115702479\n"
     ]
    }
   ],
   "source": [
    "from sklearn.metrics import accuracy_score, precision_score,fbeta_score, f1_score\n",
    "print(accuracy_score(Y_test,Y_pred))\n",
    "print(precision_score(Y_test, Y_pred))\n",
    "print(fbeta_score(Y_test, Y_pred, beta=0.5))\n",
    "print(f1_score(Y_test, Y_pred))"
   ]
  },
  {
   "cell_type": "markdown",
   "metadata": {},
   "source": [
    "0.976\n",
    "\n",
    "0.945"
   ]
  },
  {
   "cell_type": "code",
   "execution_count": 39,
   "metadata": {},
   "outputs": [],
   "source": [
    "# from sklearn.metrics import accuracy_score, precision_score,fbeta_score, f1_score\n",
    "# print(accuracy_score(y_test,y_pred))\n",
    "# print(precision_score(y_test, y_pred))\n",
    "# print(fbeta_score(y_test, y_pred, beta=0.5))\n",
    "# print(f1_score(y_test, y_pred))"
   ]
  },
  {
   "cell_type": "markdown",
   "metadata": {},
   "source": [
    "0.973\n",
    "\n",
    "0.952\n",
    "\n",
    "0.955\n",
    "\n",
    "0.959"
   ]
  },
  {
   "cell_type": "code",
   "execution_count": 40,
   "metadata": {},
   "outputs": [
    {
     "name": "stderr",
     "output_type": "stream",
     "text": [
      "2022-04-11 16:45:31.266070: W tensorflow/python/util/util.cc:348] Sets are not currently considered sequences, but this may change in the future, so consider avoiding using them.\n"
     ]
    },
    {
     "name": "stdout",
     "output_type": "stream",
     "text": [
      "INFO:tensorflow:Assets written to: models/annModel/assets\n"
     ]
    }
   ],
   "source": [
    "ann.save('models/annModel')\n"
   ]
  },
  {
   "cell_type": "code",
   "execution_count": 41,
   "metadata": {},
   "outputs": [],
   "source": [
    "import sklearn.metrics as metrics\n",
    "\n",
    "preds = Y_pred\n",
    "\n",
    "fpr, tpr, threshold = metrics.roc_curve(Y_test, preds)\n",
    "roc_auc = metrics.auc(fpr, tpr)\n"
   ]
  },
  {
   "cell_type": "code",
   "execution_count": 42,
   "metadata": {},
   "outputs": [
    {
     "data": {
      "image/png": "[encoded data removed]",
      "text/plain": [
       "<Figure size 432x288 with 1 Axes>"
      ]
     },
     "metadata": {
      "needs_background": "light"
     },
     "output_type": "display_data"
    }
   ],
   "source": [
    "import matplotlib.pyplot as plt\n",
    "plt.title('Receiver Operating Characteristic')\n",
    "plt.plot(fpr, tpr, 'b', label = 'AUC = %0.2f' % roc_auc)\n",
    "plt.legend(loc = 'lower right')\n",
    "plt.plot([0, 1], [0, 1],'r--')\n",
    "plt.xlim([0, 1])\n",
    "plt.ylim([0, 1])\n",
    "plt.ylabel('True Positive Rate')\n",
    "plt.xlabel('False Positive Rate')\n",
    "plt.show()"
   ]
  },
  {
   "cell_type": "code",
   "execution_count": 43,
   "metadata": {},
   "outputs": [
    {
     "name": "stdout",
     "output_type": "stream",
     "text": [
      "[2 1 0]\n"
     ]
    }
   ],
   "source": [
    "print(threshold)"
   ]
  },
  {
   "cell_type": "code",
   "execution_count": 44,
   "metadata": {},
   "outputs": [
    {
     "data": {
      "text/plain": [
       "array([0.        , 0.95934959, 1.        ])"
      ]
     },
     "execution_count": 44,
     "metadata": {},
     "output_type": "execute_result"
    }
   ],
   "source": [
    "tpr"
   ]
  },
  {
   "cell_type": "code",
   "execution_count": 45,
   "metadata": {},
   "outputs": [
    {
     "name": "stdout",
     "output_type": "stream",
     "text": [
      "[0.0, 0.9775415276229054, 0.0]\n",
      "Best Threshold=1.000000, G-Mean=0.978\n"
     ]
    }
   ],
   "source": [
    "import math\n",
    "gmeans = []\n",
    "for iq in range(len(tpr)):\n",
    "   gmeans.append(math.sqrt(np.array(tpr[iq]) * (1-np.array(fpr[iq]))))\n",
    "print(gmeans)\n",
    "\n",
    "ix = np.argmax(gmeans)\n",
    "print('Best Threshold=%f, G-Mean=%.3f' % (threshold[ix], gmeans[ix]))"
   ]
  },
  {
   "cell_type": "markdown",
   "metadata": {},
   "source": [
    "1 is the optimal threshold"
   ]
  },
  {
   "cell_type": "markdown",
   "metadata": {},
   "source": []
  }
 ],
 "metadata": {
  "kernelspec": {
   "display_name": "Python 3 (ipykernel)",
   "language": "python",
   "name": "python3"
  },
  "language_info": {
   "codemirror_mode": {
    "name": "ipython",
    "version": 3
   },
   "file_extension": ".py",
   "mimetype": "text/x-python",
   "name": "python",
   "nbconvert_exporter": "python",
   "pygments_lexer": "ipython3",
   "version": "3.9.12"
  }
 },
 "nbformat": 4,
 "nbformat_minor": 4
}
