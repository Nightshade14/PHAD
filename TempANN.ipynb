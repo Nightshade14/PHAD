{
 "cells": [
  {
   "cell_type": "code",
   "execution_count": 1,
   "metadata": {},
   "outputs": [
    {
     "name": "stderr",
     "output_type": "stream",
     "text": [
      "2022-04-11 14:14:28.263220: I tensorflow/stream_executor/platform/default/dso_loader.cc:49] Successfully opened dynamic library libcudart.so.10.1\n"
     ]
    }
   ],
   "source": [
    "import numpy as np\n",
    "import pandas as pd\n",
    "import matplotlib.pyplot as plt\n",
    "import seaborn as sns\n",
    "import tensorflow as tf"
   ]
  },
  {
   "cell_type": "code",
   "execution_count": 2,
   "metadata": {},
   "outputs": [],
   "source": [
    "df = pd.read_csv('PIMA.csv')"
   ]
  },
  {
   "cell_type": "code",
   "execution_count": 3,
   "metadata": {},
   "outputs": [
    {
     "data": {
      "text/plain": [
       "9"
      ]
     },
     "execution_count": 3,
     "metadata": {},
     "output_type": "execute_result"
    }
   ],
   "source": [
    "len(df.columns)"
   ]
  },
  {
   "cell_type": "code",
   "execution_count": 4,
   "metadata": {},
   "outputs": [
    {
     "data": {
      "text/plain": [
       "(2000, 9)"
      ]
     },
     "execution_count": 4,
     "metadata": {},
     "output_type": "execute_result"
    }
   ],
   "source": [
    "df.shape"
   ]
  },
  {
   "cell_type": "code",
   "execution_count": 5,
   "metadata": {},
   "outputs": [
    {
     "data": {
      "text/html": [
       "<div>\n",
       "<style scoped>\n",
       "    .dataframe tbody tr th:only-of-type {\n",
       "        vertical-align: middle;\n",
       "    }\n",
       "\n",
       "    .dataframe tbody tr th {\n",
       "        vertical-align: top;\n",
       "    }\n",
       "\n",
       "    .dataframe thead th {\n",
       "        text-align: right;\n",
       "    }\n",
       "</style>\n",
       "<table border=\"1\" class=\"dataframe\">\n",
       "  <thead>\n",
       "    <tr style=\"text-align: right;\">\n",
       "      <th></th>\n",
       "      <th>Pregnancies</th>\n",
       "      <th>Glucose</th>\n",
       "      <th>BloodPressure</th>\n",
       "      <th>SkinThickness</th>\n",
       "      <th>Insulin</th>\n",
       "      <th>BMI</th>\n",
       "      <th>DiabetesPedigreeFunction</th>\n",
       "      <th>Age</th>\n",
       "      <th>Outcome</th>\n",
       "    </tr>\n",
       "  </thead>\n",
       "  <tbody>\n",
       "    <tr>\n",
       "      <th>0</th>\n",
       "      <td>2</td>\n",
       "      <td>138</td>\n",
       "      <td>62</td>\n",
       "      <td>35</td>\n",
       "      <td>0</td>\n",
       "      <td>33.6</td>\n",
       "      <td>0.127</td>\n",
       "      <td>47</td>\n",
       "      <td>1</td>\n",
       "    </tr>\n",
       "    <tr>\n",
       "      <th>1</th>\n",
       "      <td>0</td>\n",
       "      <td>84</td>\n",
       "      <td>82</td>\n",
       "      <td>31</td>\n",
       "      <td>125</td>\n",
       "      <td>38.2</td>\n",
       "      <td>0.233</td>\n",
       "      <td>23</td>\n",
       "      <td>0</td>\n",
       "    </tr>\n",
       "    <tr>\n",
       "      <th>2</th>\n",
       "      <td>0</td>\n",
       "      <td>145</td>\n",
       "      <td>0</td>\n",
       "      <td>0</td>\n",
       "      <td>0</td>\n",
       "      <td>44.2</td>\n",
       "      <td>0.630</td>\n",
       "      <td>31</td>\n",
       "      <td>1</td>\n",
       "    </tr>\n",
       "    <tr>\n",
       "      <th>3</th>\n",
       "      <td>0</td>\n",
       "      <td>135</td>\n",
       "      <td>68</td>\n",
       "      <td>42</td>\n",
       "      <td>250</td>\n",
       "      <td>42.3</td>\n",
       "      <td>0.365</td>\n",
       "      <td>24</td>\n",
       "      <td>1</td>\n",
       "    </tr>\n",
       "    <tr>\n",
       "      <th>4</th>\n",
       "      <td>1</td>\n",
       "      <td>139</td>\n",
       "      <td>62</td>\n",
       "      <td>41</td>\n",
       "      <td>480</td>\n",
       "      <td>40.7</td>\n",
       "      <td>0.536</td>\n",
       "      <td>21</td>\n",
       "      <td>0</td>\n",
       "    </tr>\n",
       "    <tr>\n",
       "      <th>...</th>\n",
       "      <td>...</td>\n",
       "      <td>...</td>\n",
       "      <td>...</td>\n",
       "      <td>...</td>\n",
       "      <td>...</td>\n",
       "      <td>...</td>\n",
       "      <td>...</td>\n",
       "      <td>...</td>\n",
       "      <td>...</td>\n",
       "    </tr>\n",
       "    <tr>\n",
       "      <th>1995</th>\n",
       "      <td>2</td>\n",
       "      <td>75</td>\n",
       "      <td>64</td>\n",
       "      <td>24</td>\n",
       "      <td>55</td>\n",
       "      <td>29.7</td>\n",
       "      <td>0.370</td>\n",
       "      <td>33</td>\n",
       "      <td>0</td>\n",
       "    </tr>\n",
       "    <tr>\n",
       "      <th>1996</th>\n",
       "      <td>8</td>\n",
       "      <td>179</td>\n",
       "      <td>72</td>\n",
       "      <td>42</td>\n",
       "      <td>130</td>\n",
       "      <td>32.7</td>\n",
       "      <td>0.719</td>\n",
       "      <td>36</td>\n",
       "      <td>1</td>\n",
       "    </tr>\n",
       "    <tr>\n",
       "      <th>1997</th>\n",
       "      <td>6</td>\n",
       "      <td>85</td>\n",
       "      <td>78</td>\n",
       "      <td>0</td>\n",
       "      <td>0</td>\n",
       "      <td>31.2</td>\n",
       "      <td>0.382</td>\n",
       "      <td>42</td>\n",
       "      <td>0</td>\n",
       "    </tr>\n",
       "    <tr>\n",
       "      <th>1998</th>\n",
       "      <td>0</td>\n",
       "      <td>129</td>\n",
       "      <td>110</td>\n",
       "      <td>46</td>\n",
       "      <td>130</td>\n",
       "      <td>67.1</td>\n",
       "      <td>0.319</td>\n",
       "      <td>26</td>\n",
       "      <td>1</td>\n",
       "    </tr>\n",
       "    <tr>\n",
       "      <th>1999</th>\n",
       "      <td>2</td>\n",
       "      <td>81</td>\n",
       "      <td>72</td>\n",
       "      <td>15</td>\n",
       "      <td>76</td>\n",
       "      <td>30.1</td>\n",
       "      <td>0.547</td>\n",
       "      <td>25</td>\n",
       "      <td>0</td>\n",
       "    </tr>\n",
       "  </tbody>\n",
       "</table>\n",
       "<p>2000 rows × 9 columns</p>\n",
       "</div>"
      ],
      "text/plain": [
       "      Pregnancies  Glucose  BloodPressure  SkinThickness  Insulin   BMI  \\\n",
       "0               2      138             62             35        0  33.6   \n",
       "1               0       84             82             31      125  38.2   \n",
       "2               0      145              0              0        0  44.2   \n",
       "3               0      135             68             42      250  42.3   \n",
       "4               1      139             62             41      480  40.7   \n",
       "...           ...      ...            ...            ...      ...   ...   \n",
       "1995            2       75             64             24       55  29.7   \n",
       "1996            8      179             72             42      130  32.7   \n",
       "1997            6       85             78              0        0  31.2   \n",
       "1998            0      129            110             46      130  67.1   \n",
       "1999            2       81             72             15       76  30.1   \n",
       "\n",
       "      DiabetesPedigreeFunction  Age  Outcome  \n",
       "0                        0.127   47        1  \n",
       "1                        0.233   23        0  \n",
       "2                        0.630   31        1  \n",
       "3                        0.365   24        1  \n",
       "4                        0.536   21        0  \n",
       "...                        ...  ...      ...  \n",
       "1995                     0.370   33        0  \n",
       "1996                     0.719   36        1  \n",
       "1997                     0.382   42        0  \n",
       "1998                     0.319   26        1  \n",
       "1999                     0.547   25        0  \n",
       "\n",
       "[2000 rows x 9 columns]"
      ]
     },
     "execution_count": 5,
     "metadata": {},
     "output_type": "execute_result"
    }
   ],
   "source": [
    "df"
   ]
  },
  {
   "cell_type": "code",
   "execution_count": 6,
   "metadata": {},
   "outputs": [
    {
     "data": {
      "text/html": [
       "<div>\n",
       "<style scoped>\n",
       "    .dataframe tbody tr th:only-of-type {\n",
       "        vertical-align: middle;\n",
       "    }\n",
       "\n",
       "    .dataframe tbody tr th {\n",
       "        vertical-align: top;\n",
       "    }\n",
       "\n",
       "    .dataframe thead th {\n",
       "        text-align: right;\n",
       "    }\n",
       "</style>\n",
       "<table border=\"1\" class=\"dataframe\">\n",
       "  <thead>\n",
       "    <tr style=\"text-align: right;\">\n",
       "      <th></th>\n",
       "      <th>Pregnancies</th>\n",
       "      <th>Glucose</th>\n",
       "      <th>BloodPressure</th>\n",
       "      <th>SkinThickness</th>\n",
       "      <th>Insulin</th>\n",
       "      <th>BMI</th>\n",
       "      <th>DiabetesPedigreeFunction</th>\n",
       "      <th>Age</th>\n",
       "      <th>Outcome</th>\n",
       "    </tr>\n",
       "  </thead>\n",
       "  <tbody>\n",
       "    <tr>\n",
       "      <th>count</th>\n",
       "      <td>2000.000000</td>\n",
       "      <td>2000.000000</td>\n",
       "      <td>2000.000000</td>\n",
       "      <td>2000.000000</td>\n",
       "      <td>2000.000000</td>\n",
       "      <td>2000.000000</td>\n",
       "      <td>2000.000000</td>\n",
       "      <td>2000.000000</td>\n",
       "      <td>2000.000000</td>\n",
       "    </tr>\n",
       "    <tr>\n",
       "      <th>mean</th>\n",
       "      <td>3.703500</td>\n",
       "      <td>121.182500</td>\n",
       "      <td>69.145500</td>\n",
       "      <td>20.935000</td>\n",
       "      <td>80.254000</td>\n",
       "      <td>32.193000</td>\n",
       "      <td>0.470930</td>\n",
       "      <td>33.090500</td>\n",
       "      <td>0.342000</td>\n",
       "    </tr>\n",
       "    <tr>\n",
       "      <th>std</th>\n",
       "      <td>3.306063</td>\n",
       "      <td>32.068636</td>\n",
       "      <td>19.188315</td>\n",
       "      <td>16.103243</td>\n",
       "      <td>111.180534</td>\n",
       "      <td>8.149901</td>\n",
       "      <td>0.323553</td>\n",
       "      <td>11.786423</td>\n",
       "      <td>0.474498</td>\n",
       "    </tr>\n",
       "    <tr>\n",
       "      <th>min</th>\n",
       "      <td>0.000000</td>\n",
       "      <td>0.000000</td>\n",
       "      <td>0.000000</td>\n",
       "      <td>0.000000</td>\n",
       "      <td>0.000000</td>\n",
       "      <td>0.000000</td>\n",
       "      <td>0.078000</td>\n",
       "      <td>21.000000</td>\n",
       "      <td>0.000000</td>\n",
       "    </tr>\n",
       "    <tr>\n",
       "      <th>25%</th>\n",
       "      <td>1.000000</td>\n",
       "      <td>99.000000</td>\n",
       "      <td>63.500000</td>\n",
       "      <td>0.000000</td>\n",
       "      <td>0.000000</td>\n",
       "      <td>27.375000</td>\n",
       "      <td>0.244000</td>\n",
       "      <td>24.000000</td>\n",
       "      <td>0.000000</td>\n",
       "    </tr>\n",
       "    <tr>\n",
       "      <th>50%</th>\n",
       "      <td>3.000000</td>\n",
       "      <td>117.000000</td>\n",
       "      <td>72.000000</td>\n",
       "      <td>23.000000</td>\n",
       "      <td>40.000000</td>\n",
       "      <td>32.300000</td>\n",
       "      <td>0.376000</td>\n",
       "      <td>29.000000</td>\n",
       "      <td>0.000000</td>\n",
       "    </tr>\n",
       "    <tr>\n",
       "      <th>75%</th>\n",
       "      <td>6.000000</td>\n",
       "      <td>141.000000</td>\n",
       "      <td>80.000000</td>\n",
       "      <td>32.000000</td>\n",
       "      <td>130.000000</td>\n",
       "      <td>36.800000</td>\n",
       "      <td>0.624000</td>\n",
       "      <td>40.000000</td>\n",
       "      <td>1.000000</td>\n",
       "    </tr>\n",
       "    <tr>\n",
       "      <th>max</th>\n",
       "      <td>17.000000</td>\n",
       "      <td>199.000000</td>\n",
       "      <td>122.000000</td>\n",
       "      <td>110.000000</td>\n",
       "      <td>744.000000</td>\n",
       "      <td>80.600000</td>\n",
       "      <td>2.420000</td>\n",
       "      <td>81.000000</td>\n",
       "      <td>1.000000</td>\n",
       "    </tr>\n",
       "  </tbody>\n",
       "</table>\n",
       "</div>"
      ],
      "text/plain": [
       "       Pregnancies      Glucose  BloodPressure  SkinThickness      Insulin  \\\n",
       "count  2000.000000  2000.000000    2000.000000    2000.000000  2000.000000   \n",
       "mean      3.703500   121.182500      69.145500      20.935000    80.254000   \n",
       "std       3.306063    32.068636      19.188315      16.103243   111.180534   \n",
       "min       0.000000     0.000000       0.000000       0.000000     0.000000   \n",
       "25%       1.000000    99.000000      63.500000       0.000000     0.000000   \n",
       "50%       3.000000   117.000000      72.000000      23.000000    40.000000   \n",
       "75%       6.000000   141.000000      80.000000      32.000000   130.000000   \n",
       "max      17.000000   199.000000     122.000000     110.000000   744.000000   \n",
       "\n",
       "               BMI  DiabetesPedigreeFunction          Age      Outcome  \n",
       "count  2000.000000               2000.000000  2000.000000  2000.000000  \n",
       "mean     32.193000                  0.470930    33.090500     0.342000  \n",
       "std       8.149901                  0.323553    11.786423     0.474498  \n",
       "min       0.000000                  0.078000    21.000000     0.000000  \n",
       "25%      27.375000                  0.244000    24.000000     0.000000  \n",
       "50%      32.300000                  0.376000    29.000000     0.000000  \n",
       "75%      36.800000                  0.624000    40.000000     1.000000  \n",
       "max      80.600000                  2.420000    81.000000     1.000000  "
      ]
     },
     "execution_count": 6,
     "metadata": {},
     "output_type": "execute_result"
    }
   ],
   "source": [
    "df.describe()"
   ]
  },
  {
   "cell_type": "code",
   "execution_count": 7,
   "metadata": {},
   "outputs": [
    {
     "data": {
      "text/plain": [
       "Pregnancies                   int64\n",
       "Glucose                       int64\n",
       "BloodPressure                 int64\n",
       "SkinThickness                 int64\n",
       "Insulin                       int64\n",
       "BMI                         float64\n",
       "DiabetesPedigreeFunction    float64\n",
       "Age                           int64\n",
       "Outcome                       int64\n",
       "dtype: object"
      ]
     },
     "execution_count": 7,
     "metadata": {},
     "output_type": "execute_result"
    }
   ],
   "source": [
    "df.dtypes"
   ]
  },
  {
   "cell_type": "code",
   "execution_count": 8,
   "metadata": {},
   "outputs": [],
   "source": [
    "df.drop(['DiabetesPedigreeFunction'], axis = 1, inplace=True)"
   ]
  },
  {
   "cell_type": "code",
   "execution_count": 9,
   "metadata": {},
   "outputs": [
    {
     "data": {
      "text/html": [
       "<div>\n",
       "<style scoped>\n",
       "    .dataframe tbody tr th:only-of-type {\n",
       "        vertical-align: middle;\n",
       "    }\n",
       "\n",
       "    .dataframe tbody tr th {\n",
       "        vertical-align: top;\n",
       "    }\n",
       "\n",
       "    .dataframe thead th {\n",
       "        text-align: right;\n",
       "    }\n",
       "</style>\n",
       "<table border=\"1\" class=\"dataframe\">\n",
       "  <thead>\n",
       "    <tr style=\"text-align: right;\">\n",
       "      <th></th>\n",
       "      <th>Pregnancies</th>\n",
       "      <th>Glucose</th>\n",
       "      <th>BloodPressure</th>\n",
       "      <th>SkinThickness</th>\n",
       "      <th>Insulin</th>\n",
       "      <th>BMI</th>\n",
       "      <th>Age</th>\n",
       "      <th>Outcome</th>\n",
       "    </tr>\n",
       "  </thead>\n",
       "  <tbody>\n",
       "    <tr>\n",
       "      <th>0</th>\n",
       "      <td>2</td>\n",
       "      <td>138</td>\n",
       "      <td>62</td>\n",
       "      <td>35</td>\n",
       "      <td>0</td>\n",
       "      <td>33.6</td>\n",
       "      <td>47</td>\n",
       "      <td>1</td>\n",
       "    </tr>\n",
       "    <tr>\n",
       "      <th>1</th>\n",
       "      <td>0</td>\n",
       "      <td>84</td>\n",
       "      <td>82</td>\n",
       "      <td>31</td>\n",
       "      <td>125</td>\n",
       "      <td>38.2</td>\n",
       "      <td>23</td>\n",
       "      <td>0</td>\n",
       "    </tr>\n",
       "    <tr>\n",
       "      <th>2</th>\n",
       "      <td>0</td>\n",
       "      <td>145</td>\n",
       "      <td>0</td>\n",
       "      <td>0</td>\n",
       "      <td>0</td>\n",
       "      <td>44.2</td>\n",
       "      <td>31</td>\n",
       "      <td>1</td>\n",
       "    </tr>\n",
       "    <tr>\n",
       "      <th>3</th>\n",
       "      <td>0</td>\n",
       "      <td>135</td>\n",
       "      <td>68</td>\n",
       "      <td>42</td>\n",
       "      <td>250</td>\n",
       "      <td>42.3</td>\n",
       "      <td>24</td>\n",
       "      <td>1</td>\n",
       "    </tr>\n",
       "    <tr>\n",
       "      <th>4</th>\n",
       "      <td>1</td>\n",
       "      <td>139</td>\n",
       "      <td>62</td>\n",
       "      <td>41</td>\n",
       "      <td>480</td>\n",
       "      <td>40.7</td>\n",
       "      <td>21</td>\n",
       "      <td>0</td>\n",
       "    </tr>\n",
       "    <tr>\n",
       "      <th>...</th>\n",
       "      <td>...</td>\n",
       "      <td>...</td>\n",
       "      <td>...</td>\n",
       "      <td>...</td>\n",
       "      <td>...</td>\n",
       "      <td>...</td>\n",
       "      <td>...</td>\n",
       "      <td>...</td>\n",
       "    </tr>\n",
       "    <tr>\n",
       "      <th>1995</th>\n",
       "      <td>2</td>\n",
       "      <td>75</td>\n",
       "      <td>64</td>\n",
       "      <td>24</td>\n",
       "      <td>55</td>\n",
       "      <td>29.7</td>\n",
       "      <td>33</td>\n",
       "      <td>0</td>\n",
       "    </tr>\n",
       "    <tr>\n",
       "      <th>1996</th>\n",
       "      <td>8</td>\n",
       "      <td>179</td>\n",
       "      <td>72</td>\n",
       "      <td>42</td>\n",
       "      <td>130</td>\n",
       "      <td>32.7</td>\n",
       "      <td>36</td>\n",
       "      <td>1</td>\n",
       "    </tr>\n",
       "    <tr>\n",
       "      <th>1997</th>\n",
       "      <td>6</td>\n",
       "      <td>85</td>\n",
       "      <td>78</td>\n",
       "      <td>0</td>\n",
       "      <td>0</td>\n",
       "      <td>31.2</td>\n",
       "      <td>42</td>\n",
       "      <td>0</td>\n",
       "    </tr>\n",
       "    <tr>\n",
       "      <th>1998</th>\n",
       "      <td>0</td>\n",
       "      <td>129</td>\n",
       "      <td>110</td>\n",
       "      <td>46</td>\n",
       "      <td>130</td>\n",
       "      <td>67.1</td>\n",
       "      <td>26</td>\n",
       "      <td>1</td>\n",
       "    </tr>\n",
       "    <tr>\n",
       "      <th>1999</th>\n",
       "      <td>2</td>\n",
       "      <td>81</td>\n",
       "      <td>72</td>\n",
       "      <td>15</td>\n",
       "      <td>76</td>\n",
       "      <td>30.1</td>\n",
       "      <td>25</td>\n",
       "      <td>0</td>\n",
       "    </tr>\n",
       "  </tbody>\n",
       "</table>\n",
       "<p>2000 rows × 8 columns</p>\n",
       "</div>"
      ],
      "text/plain": [
       "      Pregnancies  Glucose  BloodPressure  SkinThickness  Insulin   BMI  Age  \\\n",
       "0               2      138             62             35        0  33.6   47   \n",
       "1               0       84             82             31      125  38.2   23   \n",
       "2               0      145              0              0        0  44.2   31   \n",
       "3               0      135             68             42      250  42.3   24   \n",
       "4               1      139             62             41      480  40.7   21   \n",
       "...           ...      ...            ...            ...      ...   ...  ...   \n",
       "1995            2       75             64             24       55  29.7   33   \n",
       "1996            8      179             72             42      130  32.7   36   \n",
       "1997            6       85             78              0        0  31.2   42   \n",
       "1998            0      129            110             46      130  67.1   26   \n",
       "1999            2       81             72             15       76  30.1   25   \n",
       "\n",
       "      Outcome  \n",
       "0           1  \n",
       "1           0  \n",
       "2           1  \n",
       "3           1  \n",
       "4           0  \n",
       "...       ...  \n",
       "1995        0  \n",
       "1996        1  \n",
       "1997        0  \n",
       "1998        1  \n",
       "1999        0  \n",
       "\n",
       "[2000 rows x 8 columns]"
      ]
     },
     "execution_count": 9,
     "metadata": {},
     "output_type": "execute_result"
    }
   ],
   "source": [
    "df"
   ]
  },
  {
   "cell_type": "code",
   "execution_count": 10,
   "metadata": {},
   "outputs": [
    {
     "name": "stdout",
     "output_type": "stream",
     "text": [
      "<class 'pandas.core.frame.DataFrame'>\n",
      "RangeIndex: 2000 entries, 0 to 1999\n",
      "Data columns (total 8 columns):\n",
      " #   Column         Non-Null Count  Dtype  \n",
      "---  ------         --------------  -----  \n",
      " 0   Pregnancies    2000 non-null   int64  \n",
      " 1   Glucose        2000 non-null   int64  \n",
      " 2   BloodPressure  2000 non-null   int64  \n",
      " 3   SkinThickness  2000 non-null   int64  \n",
      " 4   Insulin        2000 non-null   int64  \n",
      " 5   BMI            2000 non-null   float64\n",
      " 6   Age            2000 non-null   int64  \n",
      " 7   Outcome        2000 non-null   int64  \n",
      "dtypes: float64(1), int64(7)\n",
      "memory usage: 125.1 KB\n"
     ]
    }
   ],
   "source": [
    "df.info()"
   ]
  },
  {
   "cell_type": "code",
   "execution_count": 11,
   "metadata": {},
   "outputs": [
    {
     "data": {
      "text/plain": [
       "Pregnancies      0\n",
       "Glucose          0\n",
       "BloodPressure    0\n",
       "SkinThickness    0\n",
       "Insulin          0\n",
       "BMI              0\n",
       "Age              0\n",
       "Outcome          0\n",
       "dtype: int64"
      ]
     },
     "execution_count": 11,
     "metadata": {},
     "output_type": "execute_result"
    }
   ],
   "source": [
    "df.isnull().sum()"
   ]
  },
  {
   "cell_type": "code",
   "execution_count": 12,
   "metadata": {},
   "outputs": [],
   "source": [
    "# plt.figure(figsize=(14,14))\n",
    "# sns.boxplot(data=df)\n",
    "# plt.yscale('log')"
   ]
  },
  {
   "cell_type": "code",
   "execution_count": 13,
   "metadata": {},
   "outputs": [],
   "source": [
    "# plt.figure(figsize=(13,13))\n",
    "# for colName in df.columns:\n",
    "#     plt.figure()\n",
    "#     sns.scatterplot(data=df[colName])"
   ]
  },
  {
   "cell_type": "code",
   "execution_count": null,
   "metadata": {},
   "outputs": [],
   "source": []
  },
  {
   "cell_type": "code",
   "execution_count": null,
   "metadata": {},
   "outputs": [],
   "source": []
  },
  {
   "cell_type": "code",
   "execution_count": null,
   "metadata": {},
   "outputs": [],
   "source": []
  },
  {
   "cell_type": "code",
   "execution_count": 14,
   "metadata": {},
   "outputs": [
    {
     "name": "stderr",
     "output_type": "stream",
     "text": [
      "/tmp/ipykernel_35730/684818280.py:1: SettingWithCopyWarning: \n",
      "A value is trying to be set on a copy of a slice from a DataFrame\n",
      "\n",
      "See the caveats in the documentation: https://pandas.pydata.org/pandas-docs/stable/user_guide/indexing.html#returning-a-view-versus-a-copy\n",
      "  df['BloodPressure'].loc[(df['BloodPressure'] <= 30)] = np.nan\n",
      "/tmp/ipykernel_35730/684818280.py:2: SettingWithCopyWarning: \n",
      "A value is trying to be set on a copy of a slice from a DataFrame\n",
      "\n",
      "See the caveats in the documentation: https://pandas.pydata.org/pandas-docs/stable/user_guide/indexing.html#returning-a-view-versus-a-copy\n",
      "  df['Glucose'].loc[(df['Glucose'] <= 45)] = np.nan\n"
     ]
    }
   ],
   "source": [
    "df['BloodPressure'].loc[(df['BloodPressure'] <= 30)] = np.nan\n",
    "df['Glucose'].loc[(df['Glucose'] <= 45)] = np.nan"
   ]
  },
  {
   "cell_type": "code",
   "execution_count": 15,
   "metadata": {},
   "outputs": [
    {
     "data": {
      "text/plain": [
       "Pregnancies       0\n",
       "Glucose          15\n",
       "BloodPressure    95\n",
       "SkinThickness     0\n",
       "Insulin           0\n",
       "BMI               0\n",
       "Age               0\n",
       "Outcome           0\n",
       "dtype: int64"
      ]
     },
     "execution_count": 15,
     "metadata": {},
     "output_type": "execute_result"
    }
   ],
   "source": [
    "df.isnull().sum()"
   ]
  },
  {
   "cell_type": "code",
   "execution_count": 16,
   "metadata": {},
   "outputs": [
    {
     "data": {
      "text/plain": [
       "0.0475"
      ]
     },
     "execution_count": 16,
     "metadata": {},
     "output_type": "execute_result"
    }
   ],
   "source": [
    "df['BloodPressure'].isnull().sum()/len(df['BloodPressure'])"
   ]
  },
  {
   "cell_type": "code",
   "execution_count": 17,
   "metadata": {},
   "outputs": [],
   "source": [
    "df = df.dropna()"
   ]
  },
  {
   "cell_type": "code",
   "execution_count": 18,
   "metadata": {},
   "outputs": [
    {
     "data": {
      "text/plain": [
       "Pregnancies      0\n",
       "Glucose          0\n",
       "BloodPressure    0\n",
       "SkinThickness    0\n",
       "Insulin          0\n",
       "BMI              0\n",
       "Age              0\n",
       "Outcome          0\n",
       "dtype: int64"
      ]
     },
     "execution_count": 18,
     "metadata": {},
     "output_type": "execute_result"
    }
   ],
   "source": [
    "df.isnull().sum()"
   ]
  },
  {
   "cell_type": "code",
   "execution_count": 19,
   "metadata": {},
   "outputs": [],
   "source": [
    "X = df.iloc[:,:-1]\n",
    "y = df.iloc[:,-1]"
   ]
  },
  {
   "cell_type": "code",
   "execution_count": 20,
   "metadata": {},
   "outputs": [
    {
     "data": {
      "text/plain": [
       "1890"
      ]
     },
     "execution_count": 20,
     "metadata": {},
     "output_type": "execute_result"
    }
   ],
   "source": [
    "len(X)"
   ]
  },
  {
   "cell_type": "code",
   "execution_count": 21,
   "metadata": {},
   "outputs": [],
   "source": [
    "X = X.to_numpy()\n",
    "y = y.to_numpy()"
   ]
  },
  {
   "cell_type": "code",
   "execution_count": 22,
   "metadata": {},
   "outputs": [
    {
     "data": {
      "text/plain": [
       "array([[  2. , 138. ,  62. , ...,   0. ,  33.6,  47. ],\n",
       "       [  0. ,  84. ,  82. , ..., 125. ,  38.2,  23. ],\n",
       "       [  0. , 135. ,  68. , ..., 250. ,  42.3,  24. ],\n",
       "       ...,\n",
       "       [  6. ,  85. ,  78. , ...,   0. ,  31.2,  42. ],\n",
       "       [  0. , 129. , 110. , ..., 130. ,  67.1,  26. ],\n",
       "       [  2. ,  81. ,  72. , ...,  76. ,  30.1,  25. ]])"
      ]
     },
     "execution_count": 22,
     "metadata": {},
     "output_type": "execute_result"
    }
   ],
   "source": [
    "X"
   ]
  },
  {
   "cell_type": "code",
   "execution_count": 23,
   "metadata": {},
   "outputs": [
    {
     "data": {
      "text/plain": [
       "array([1, 0, 1, ..., 0, 1, 0])"
      ]
     },
     "execution_count": 23,
     "metadata": {},
     "output_type": "execute_result"
    }
   ],
   "source": [
    "y"
   ]
  },
  {
   "cell_type": "code",
   "execution_count": 24,
   "metadata": {},
   "outputs": [],
   "source": [
    "from sklearn.model_selection import train_test_split\n",
    "X_train, X_test, Y_train, Y_test = train_test_split(X, y, test_size = 0.20, random_state = 0)"
   ]
  },
  {
   "cell_type": "code",
   "execution_count": 25,
   "metadata": {},
   "outputs": [],
   "source": [
    "# X_val, X_test, y_val, y_test = train_test_split(X_train, y_train, test_size = 0.5, random_state = 0)"
   ]
  },
  {
   "cell_type": "code",
   "execution_count": 26,
   "metadata": {},
   "outputs": [],
   "source": [
    "from sklearn.preprocessing import StandardScaler\n",
    "sc1 = StandardScaler()\n",
    "sc1.fit(X_train)\n",
    "X_test = sc1.transform(X_test)"
   ]
  },
  {
   "cell_type": "code",
   "execution_count": 27,
   "metadata": {},
   "outputs": [],
   "source": [
    "# import pickle\n",
    "# with open('scalers/standardScaler.pkl','wb') as f:\n",
    "#     pickle.dump(sc,f)"
   ]
  },
  {
   "cell_type": "code",
   "execution_count": 28,
   "metadata": {},
   "outputs": [],
   "source": [
    "# ann = tf.keras.models.Sequential()\n",
    "\n",
    "# ann.add(tf.keras.layers.Dense(units=7, activation='relu'))\n",
    "# ann.add(tf.keras.layers.Dense(units=14, activation='relu'))\n",
    "# ann.add(tf.keras.layers.Dense(units=50, activation='relu'))\n",
    "# ann.add(tf.keras.layers.Dense(units=75, activation='relu'))\n",
    "# ann.add(tf.keras.layers.Dense(units=50, activation='relu'))\n",
    "# ann.add(tf.keras.layers.Dense(units=14, activation='relu'))\n",
    "# ann.add(tf.keras.layers.Dense(units=7, activation='relu'))\n",
    "# ann.add(tf.keras.layers.Dense(units=1, activation='sigmoid'))\n",
    "\n",
    "\n",
    "# ann.compile(loss='binary_crossentropy',\n",
    "#              optimizer='adam',\n",
    "#              metrics=[\n",
    "#                  tf.keras.metrics.BinaryAccuracy(name='accuracy'),\n",
    "#                 tf.keras.metrics.Precision(name='precision'),\n",
    "#                 tf.keras.metrics.Recall(name='recall')\n",
    "#              ])"
   ]
  },
  {
   "cell_type": "code",
   "execution_count": 29,
   "metadata": {},
   "outputs": [],
   "source": [
    "# ann = tf.keras.models.Sequential()\n",
    "\n",
    "# ann.add(tf.keras.layers.Dense(units=7, activation='relu'))\n",
    "# ann.add(tf.keras.layers.Dense(units=14, activation='relu'))\n",
    "# ann.add(tf.keras.layers.Dense(units=79, activation='relu'))\n",
    "# ann.add(tf.keras.layers.Dense(units=57, activation='relu'))\n",
    "# ann.add(tf.keras.layers.Dense(units=1, activation='sigmoid'))\n",
    "\n",
    "\n",
    "# ann.compile(loss='binary_crossentropy',\n",
    "#              optimizer='adam',\n",
    "#              metrics=[\n",
    "#                 tf.keras.metrics.BinaryAccuracy(name='accuracy'),\n",
    "#                 tf.keras.metrics.Precision(name='precision'),\n",
    "#                 tf.keras.metrics.Recall(name='recall')\n",
    "#              ])"
   ]
  },
  {
   "cell_type": "code",
   "execution_count": 30,
   "metadata": {},
   "outputs": [],
   "source": [
    "# ann = tf.keras.models.Sequential()\n",
    "\n",
    "# # ann.add(tf.keras.layers.Dense(units=7, activation='relu'))\n",
    "# ann.add(tf.keras.layers.Dense(units=14, activation='relu'))\n",
    "# ann.add(tf.keras.layers.Dense(units=101, activation='relu'))\n",
    "# ann.add(tf.keras.layers.Dense(units=200, activation='relu'))\n",
    "# ann.add(tf.keras.layers.Dense(units=89, activation='relu'))\n",
    "# ann.add(tf.keras.layers.Dense(units=37, activation='relu'))\n",
    "# ann.add(tf.keras.layers.Dense(units=1, activation='sigmoid'))\n",
    "\n",
    "\n",
    "# ann.compile(loss='binary_crossentropy',\n",
    "#              optimizer='adam',\n",
    "#              metrics=[\n",
    "#                 tf.keras.metrics.BinaryAccuracy(name='accuracy'),\n",
    "#                 tf.keras.metrics.Precision(name='precision'),\n",
    "#                 tf.keras.metrics.Recall(name='recall')\n",
    "#              ])"
   ]
  },
  {
   "cell_type": "code",
   "execution_count": 31,
   "metadata": {},
   "outputs": [],
   "source": [
    "# ann = tf.keras.models.Sequential()\n",
    "\n",
    "# ann.add(tf.keras.layers.Dense(units=7, activation='relu'))\n",
    "# ann.add(tf.keras.layers.Dense(units=131, activation='relu'))\n",
    "# ann.add(tf.keras.layers.Dense(units=274, activation='relu'))\n",
    "# ann.add(tf.keras.layers.Dense(units=479, activation='relu'))\n",
    "# ann.add(tf.keras.layers.Dense(units=389, activation='relu'))\n",
    "# ann.add(tf.keras.layers.Dense(units=59, activation='relu'))\n",
    "# ann.add(tf.keras.layers.Dense(units=1, activation='sigmoid'))\n",
    "\n",
    "\n",
    "# ann.compile(loss='binary_crossentropy',\n",
    "#              optimizer='adam',\n",
    "#              metrics=[\n",
    "#                 tf.keras.metrics.BinaryAccuracy(name='accuracy'),\n",
    "#                 tf.keras.metrics.Precision(name='precision'),\n",
    "#                 tf.keras.metrics.Recall(name='recall')\n",
    "#              ])"
   ]
  },
  {
   "cell_type": "code",
   "execution_count": 32,
   "metadata": {},
   "outputs": [
    {
     "name": "stderr",
     "output_type": "stream",
     "text": [
      "2022-04-11 14:14:33.427621: I tensorflow/compiler/jit/xla_cpu_device.cc:41] Not creating XLA devices, tf_xla_enable_xla_devices not set\n",
      "2022-04-11 14:14:33.428229: W tensorflow/stream_executor/platform/default/dso_loader.cc:60] Could not load dynamic library 'libcuda.so.1'; dlerror: libcuda.so.1: cannot open shared object file: No such file or directory\n",
      "2022-04-11 14:14:33.428249: W tensorflow/stream_executor/cuda/cuda_driver.cc:326] failed call to cuInit: UNKNOWN ERROR (303)\n",
      "2022-04-11 14:14:33.428278: I tensorflow/stream_executor/cuda/cuda_diagnostics.cc:156] kernel driver does not appear to be running on this host (RSPL-346): /proc/driver/nvidia/version does not exist\n",
      "2022-04-11 14:14:33.428541: I tensorflow/core/platform/cpu_feature_guard.cc:142] This TensorFlow binary is optimized with oneAPI Deep Neural Network Library (oneDNN) to use the following CPU instructions in performance-critical operations:  SSE4.1 SSE4.2 AVX AVX2 FMA\n",
      "To enable them in other operations, rebuild TensorFlow with the appropriate compiler flags.\n",
      "2022-04-11 14:14:33.429202: I tensorflow/compiler/jit/xla_gpu_device.cc:99] Not creating XLA devices, tf_xla_enable_xla_devices not set\n"
     ]
    }
   ],
   "source": [
    "ann = tf.keras.models.Sequential()\n",
    "\n",
    "ann.add(tf.keras.layers.Dense(units=7, activation='relu'))\n",
    "ann.add(tf.keras.layers.Dense(units=132, activation='relu'))\n",
    "ann.add(tf.keras.layers.Dense(units=279, activation='relu'))\n",
    "ann.add(tf.keras.layers.Dense(units=423, activation='relu'))\n",
    "ann.add(tf.keras.layers.Dense(units=579, activation='relu'))\n",
    "ann.add(tf.keras.layers.Dense(units=456, activation='relu'))\n",
    "ann.add(tf.keras.layers.Dense(units=303, activation='relu'))\n",
    "ann.add(tf.keras.layers.Dense(units=154, activation='relu'))\n",
    "ann.add(tf.keras.layers.Dense(units=1, activation='sigmoid'))\n",
    "\n",
    "\n",
    "ann.compile(loss='binary_crossentropy',\n",
    "             optimizer='adam',\n",
    "             metrics=[\n",
    "                tf.keras.metrics.BinaryAccuracy(name='accuracy'),\n",
    "                tf.keras.metrics.Precision(name='precision'),\n",
    "                tf.keras.metrics.Recall(name='recall')\n",
    "             ])"
   ]
  },
  {
   "cell_type": "code",
   "execution_count": 33,
   "metadata": {},
   "outputs": [],
   "source": [
    "# from sklearn.model_selection import cross_val_score\n",
    "# accuracies = cross_val_score(estimator=ann, X=X_train, y=y_train, cv= 10)\n",
    "# print(f'Accuracies: {accuracies}')\n",
    "# print('Mean Accuracy: {:.2f}'.format(accuracies.mean()))\n",
    "# print('Standard Deviation of Accuracies: {:.2f}'.format(accuracies.std()))\n"
   ]
  },
  {
   "cell_type": "code",
   "execution_count": 34,
   "metadata": {},
   "outputs": [
    {
     "name": "stderr",
     "output_type": "stream",
     "text": [
      "2022-04-11 14:14:33.709857: I tensorflow/compiler/mlir/mlir_graph_optimization_pass.cc:116] None of the MLIR optimization passes are enabled (registered 2)\n",
      "2022-04-11 14:14:33.730281: I tensorflow/core/platform/profile_utils/cpu_utils.cc:112] CPU Frequency: 1999965000 Hz\n"
     ]
    },
    {
     "name": "stdout",
     "output_type": "stream",
     "text": [
      "Epoch 1/20\n",
      "43/43 [==============================] - 1s 10ms/step - loss: 0.6534 - accuracy: 0.6328 - precision: 0.3353 - recall: 0.0860\n",
      "Epoch 2/20\n",
      "43/43 [==============================] - 0s 10ms/step - loss: 0.5634 - accuracy: 0.7075 - precision: 0.6124 - recall: 0.4143\n",
      "Epoch 3/20\n",
      "43/43 [==============================] - 0s 10ms/step - loss: 0.5133 - accuracy: 0.7390 - precision: 0.6326 - recall: 0.6199\n",
      "Epoch 4/20\n",
      "43/43 [==============================] - 0s 11ms/step - loss: 0.5059 - accuracy: 0.7340 - precision: 0.7349 - recall: 0.3777\n",
      "Epoch 5/20\n",
      "43/43 [==============================] - 0s 11ms/step - loss: 0.4652 - accuracy: 0.7638 - precision: 0.6651 - recall: 0.6413\n",
      "Epoch 6/20\n",
      "43/43 [==============================] - 0s 10ms/step - loss: 0.4946 - accuracy: 0.7743 - precision: 0.7556 - recall: 0.5186\n",
      "Epoch 7/20\n",
      "43/43 [==============================] - 0s 9ms/step - loss: 0.4334 - accuracy: 0.7958 - precision: 0.7032 - recall: 0.6490\n",
      "Epoch 8/20\n",
      "43/43 [==============================] - 0s 9ms/step - loss: 0.4177 - accuracy: 0.8048 - precision: 0.7281 - recall: 0.6746\n",
      "Epoch 9/20\n",
      "43/43 [==============================] - 0s 10ms/step - loss: 0.4242 - accuracy: 0.7993 - precision: 0.7534 - recall: 0.6331\n",
      "Epoch 10/20\n",
      "43/43 [==============================] - 0s 9ms/step - loss: 0.3938 - accuracy: 0.8119 - precision: 0.7149 - recall: 0.7143\n",
      "Epoch 11/20\n",
      "43/43 [==============================] - 0s 10ms/step - loss: 0.4059 - accuracy: 0.8076 - precision: 0.7309 - recall: 0.6558\n",
      "Epoch 12/20\n",
      "43/43 [==============================] - 0s 9ms/step - loss: 0.4083 - accuracy: 0.8033 - precision: 0.7448 - recall: 0.6300\n",
      "Epoch 13/20\n",
      "43/43 [==============================] - 0s 9ms/step - loss: 0.3876 - accuracy: 0.8146 - precision: 0.7485 - recall: 0.6959\n",
      "Epoch 14/20\n",
      "43/43 [==============================] - 0s 9ms/step - loss: 0.3490 - accuracy: 0.8500 - precision: 0.7994 - recall: 0.7302\n",
      "Epoch 15/20\n",
      "43/43 [==============================] - 0s 10ms/step - loss: 0.3484 - accuracy: 0.8435 - precision: 0.7971 - recall: 0.7473\n",
      "Epoch 16/20\n",
      "43/43 [==============================] - 0s 10ms/step - loss: 0.3586 - accuracy: 0.8254 - precision: 0.7576 - recall: 0.7499\n",
      "Epoch 17/20\n",
      "43/43 [==============================] - 0s 9ms/step - loss: 0.3126 - accuracy: 0.8565 - precision: 0.8211 - recall: 0.7123\n",
      "Epoch 18/20\n",
      "43/43 [==============================] - 0s 9ms/step - loss: 0.3317 - accuracy: 0.8517 - precision: 0.7833 - recall: 0.7842\n",
      "Epoch 19/20\n",
      "43/43 [==============================] - 0s 9ms/step - loss: 0.3459 - accuracy: 0.8480 - precision: 0.7590 - recall: 0.8098\n",
      "Epoch 20/20\n",
      "43/43 [==============================] - 0s 9ms/step - loss: 0.2961 - accuracy: 0.8599 - precision: 0.8079 - recall: 0.7739\n",
      "0.8092105263157895\n",
      "0.6666666666666666\n",
      "0.6635071090047393\n",
      "0.6588235294117646\n",
      "Epoch 1/20\n",
      "43/43 [==============================] - 0s 10ms/step - loss: 0.3454 - accuracy: 0.8449 - precision: 0.7866 - recall: 0.7172\n",
      "Epoch 2/20\n",
      "43/43 [==============================] - 0s 9ms/step - loss: 0.2958 - accuracy: 0.8743 - precision: 0.8101 - recall: 0.8009\n",
      "Epoch 3/20\n",
      "43/43 [==============================] - 0s 8ms/step - loss: 0.2931 - accuracy: 0.8728 - precision: 0.8257 - recall: 0.7715\n",
      "Epoch 4/20\n",
      "43/43 [==============================] - 0s 9ms/step - loss: 0.2919 - accuracy: 0.8743 - precision: 0.8031 - recall: 0.8122\n",
      "Epoch 5/20\n",
      "43/43 [==============================] - 0s 9ms/step - loss: 0.2656 - accuracy: 0.8772 - precision: 0.8104 - recall: 0.8122\n",
      "Epoch 6/20\n",
      "43/43 [==============================] - 0s 8ms/step - loss: 0.2713 - accuracy: 0.8757 - precision: 0.8337 - recall: 0.7715\n",
      "Epoch 7/20\n",
      "43/43 [==============================] - 0s 8ms/step - loss: 0.2760 - accuracy: 0.8735 - precision: 0.7974 - recall: 0.8190\n",
      "Epoch 8/20\n",
      "43/43 [==============================] - 0s 8ms/step - loss: 0.2671 - accuracy: 0.8750 - precision: 0.8036 - recall: 0.8145\n",
      "Epoch 9/20\n",
      "43/43 [==============================] - 0s 8ms/step - loss: 0.2484 - accuracy: 0.8882 - precision: 0.8194 - recall: 0.8416\n",
      "Epoch 10/20\n",
      "43/43 [==============================] - 0s 8ms/step - loss: 0.2445 - accuracy: 0.8846 - precision: 0.8484 - recall: 0.7851\n",
      "Epoch 11/20\n",
      "43/43 [==============================] - 0s 9ms/step - loss: 0.2561 - accuracy: 0.8838 - precision: 0.8333 - recall: 0.8032\n",
      "Epoch 12/20\n",
      "43/43 [==============================] - 0s 8ms/step - loss: 0.2268 - accuracy: 0.8926 - precision: 0.8575 - recall: 0.8032\n",
      "Epoch 13/20\n",
      "43/43 [==============================] - 0s 8ms/step - loss: 0.2292 - accuracy: 0.8926 - precision: 0.8458 - recall: 0.8190\n",
      "Epoch 14/20\n",
      "43/43 [==============================] - 0s 9ms/step - loss: 0.2257 - accuracy: 0.9022 - precision: 0.8552 - recall: 0.8416\n",
      "Epoch 15/20\n",
      "43/43 [==============================] - 0s 11ms/step - loss: 0.2147 - accuracy: 0.9081 - precision: 0.8765 - recall: 0.8348\n",
      "Epoch 16/20\n",
      "43/43 [==============================] - 0s 9ms/step - loss: 0.2326 - accuracy: 0.8963 - precision: 0.8644 - recall: 0.8077\n",
      "Epoch 17/20\n",
      "43/43 [==============================] - 0s 10ms/step - loss: 0.2154 - accuracy: 0.9007 - precision: 0.8481 - recall: 0.8462\n",
      "Epoch 18/20\n",
      "43/43 [==============================] - 0s 9ms/step - loss: 0.1793 - accuracy: 0.9221 - precision: 0.9000 - recall: 0.8552\n",
      "Epoch 19/20\n",
      "43/43 [==============================] - 0s 10ms/step - loss: 0.1715 - accuracy: 0.9140 - precision: 0.8788 - recall: 0.8529\n",
      "Epoch 20/20\n",
      "43/43 [==============================] - 0s 10ms/step - loss: 0.1640 - accuracy: 0.9250 - precision: 0.8846 - recall: 0.8846\n",
      "0.8618421052631579\n",
      "0.85\n",
      "0.8415841584158417\n",
      "0.8292682926829269\n",
      "Epoch 1/20\n",
      "43/43 [==============================] - 0s 10ms/step - loss: 0.1736 - accuracy: 0.9199 - precision: 0.8766 - recall: 0.8862\n",
      "Epoch 2/20\n",
      "43/43 [==============================] - 0s 10ms/step - loss: 0.2354 - accuracy: 0.9104 - precision: 0.8764 - recall: 0.8534\n",
      "Epoch 3/20\n",
      "43/43 [==============================] - 0s 11ms/step - loss: 0.1927 - accuracy: 0.9052 - precision: 0.8431 - recall: 0.8818\n",
      "Epoch 4/20\n",
      "43/43 [==============================] - 1s 12ms/step - loss: 0.1820 - accuracy: 0.9184 - precision: 0.8712 - recall: 0.8884\n",
      "Epoch 5/20\n",
      "43/43 [==============================] - 0s 10ms/step - loss: 0.1973 - accuracy: 0.9067 - precision: 0.8667 - recall: 0.8534\n",
      "Epoch 6/20\n",
      "43/43 [==============================] - 0s 10ms/step - loss: 0.1827 - accuracy: 0.9162 - precision: 0.9016 - recall: 0.8425\n",
      "Epoch 7/20\n",
      "43/43 [==============================] - 0s 9ms/step - loss: 0.1444 - accuracy: 0.9295 - precision: 0.9149 - recall: 0.8709\n",
      "Epoch 8/20\n",
      "43/43 [==============================] - 0s 10ms/step - loss: 0.1585 - accuracy: 0.9383 - precision: 0.9154 - recall: 0.8993\n",
      "Epoch 9/20\n",
      "43/43 [==============================] - 0s 10ms/step - loss: 0.1476 - accuracy: 0.9295 - precision: 0.8932 - recall: 0.8972\n",
      "Epoch 10/20\n",
      "43/43 [==============================] - 0s 10ms/step - loss: 0.1394 - accuracy: 0.9353 - precision: 0.8985 - recall: 0.9103\n",
      "Epoch 11/20\n",
      "43/43 [==============================] - 0s 9ms/step - loss: 0.1484 - accuracy: 0.9398 - precision: 0.9032 - recall: 0.9190\n",
      "Epoch 12/20\n",
      "43/43 [==============================] - 0s 10ms/step - loss: 0.1351 - accuracy: 0.9478 - precision: 0.9142 - recall: 0.9322\n",
      "Epoch 13/20\n",
      "43/43 [==============================] - 0s 10ms/step - loss: 0.1209 - accuracy: 0.9398 - precision: 0.9121 - recall: 0.9081\n",
      "Epoch 14/20\n",
      "43/43 [==============================] - 0s 9ms/step - loss: 0.1865 - accuracy: 0.9309 - precision: 0.8937 - recall: 0.9015\n",
      "Epoch 15/20\n",
      "43/43 [==============================] - 0s 9ms/step - loss: 0.1724 - accuracy: 0.9339 - precision: 0.8963 - recall: 0.9081\n",
      "Epoch 16/20\n",
      "43/43 [==============================] - 0s 10ms/step - loss: 0.1306 - accuracy: 0.9464 - precision: 0.9305 - recall: 0.9081\n",
      "Epoch 17/20\n",
      "43/43 [==============================] - 0s 9ms/step - loss: 0.1148 - accuracy: 0.9515 - precision: 0.9278 - recall: 0.9278\n",
      "Epoch 18/20\n",
      "43/43 [==============================] - 0s 9ms/step - loss: 0.1100 - accuracy: 0.9522 - precision: 0.9317 - recall: 0.9256\n",
      "Epoch 19/20\n",
      "43/43 [==============================] - 0s 9ms/step - loss: 0.0956 - accuracy: 0.9655 - precision: 0.9596 - recall: 0.9365\n",
      "Epoch 20/20\n",
      "43/43 [==============================] - 0s 9ms/step - loss: 0.1566 - accuracy: 0.9302 - precision: 0.9004 - recall: 0.8906\n",
      "0.9470198675496688\n",
      "0.9\n",
      "0.907258064516129\n",
      "0.9183673469387755\n",
      "Epoch 1/20\n",
      "43/43 [==============================] - 0s 8ms/step - loss: 0.0949 - accuracy: 0.9596 - precision: 0.9478 - recall: 0.9336\n",
      "Epoch 2/20\n",
      "43/43 [==============================] - 0s 8ms/step - loss: 0.1053 - accuracy: 0.9566 - precision: 0.9454 - recall: 0.9272\n",
      "Epoch 3/20\n",
      "43/43 [==============================] - 0s 8ms/step - loss: 0.1519 - accuracy: 0.9368 - precision: 0.9114 - recall: 0.9036\n",
      "Epoch 4/20\n",
      "43/43 [==============================] - 0s 8ms/step - loss: 0.1250 - accuracy: 0.9456 - precision: 0.9208 - recall: 0.9208\n",
      "Epoch 5/20\n",
      "43/43 [==============================] - 0s 8ms/step - loss: 0.1423 - accuracy: 0.9456 - precision: 0.9190 - recall: 0.9229\n",
      "Epoch 6/20\n",
      "43/43 [==============================] - 0s 9ms/step - loss: 0.1260 - accuracy: 0.9544 - precision: 0.9318 - recall: 0.9358\n",
      "Epoch 7/20\n",
      "43/43 [==============================] - 0s 9ms/step - loss: 0.1034 - accuracy: 0.9640 - precision: 0.9391 - recall: 0.9572\n",
      "Epoch 8/20\n",
      "43/43 [==============================] - 0s 9ms/step - loss: 0.1074 - accuracy: 0.9581 - precision: 0.9343 - recall: 0.9443\n",
      "Epoch 9/20\n",
      "43/43 [==============================] - 0s 9ms/step - loss: 0.0993 - accuracy: 0.9566 - precision: 0.9322 - recall: 0.9422\n",
      "Epoch 10/20\n",
      "43/43 [==============================] - 0s 9ms/step - loss: 0.1126 - accuracy: 0.9537 - precision: 0.9280 - recall: 0.9379\n",
      "Epoch 11/20\n",
      "43/43 [==============================] - 0s 10ms/step - loss: 0.0952 - accuracy: 0.9640 - precision: 0.9524 - recall: 0.9422\n",
      "Epoch 12/20\n",
      "43/43 [==============================] - 0s 10ms/step - loss: 0.0606 - accuracy: 0.9750 - precision: 0.9577 - recall: 0.9700\n",
      "Epoch 13/20\n",
      "43/43 [==============================] - 0s 10ms/step - loss: 0.0458 - accuracy: 0.9831 - precision: 0.9784 - recall: 0.9722\n",
      "Epoch 14/20\n",
      "43/43 [==============================] - 0s 9ms/step - loss: 0.0620 - accuracy: 0.9780 - precision: 0.9659 - recall: 0.9700\n",
      "Epoch 15/20\n",
      "43/43 [==============================] - 0s 9ms/step - loss: 0.0964 - accuracy: 0.9640 - precision: 0.9485 - recall: 0.9465\n",
      "Epoch 16/20\n",
      "43/43 [==============================] - 0s 9ms/step - loss: 0.1135 - accuracy: 0.9566 - precision: 0.9286 - recall: 0.9465\n",
      "Epoch 17/20\n",
      "43/43 [==============================] - 0s 9ms/step - loss: 0.0662 - accuracy: 0.9713 - precision: 0.9553 - recall: 0.9615\n",
      "Epoch 18/20\n",
      "43/43 [==============================] - 0s 10ms/step - loss: 0.0545 - accuracy: 0.9772 - precision: 0.9678 - recall: 0.9657\n",
      "Epoch 19/20\n",
      "43/43 [==============================] - 0s 10ms/step - loss: 0.0635 - accuracy: 0.9750 - precision: 0.9577 - recall: 0.9700\n",
      "Epoch 20/20\n",
      "43/43 [==============================] - 0s 10ms/step - loss: 0.0979 - accuracy: 0.9669 - precision: 0.9607 - recall: 0.9422\n",
      "0.9867549668874173\n",
      "0.95\n",
      "0.9595959595959596\n",
      "0.9743589743589743\n",
      "Epoch 1/20\n",
      "43/43 [==============================] - 0s 9ms/step - loss: 0.0615 - accuracy: 0.9721 - precision: 0.9552 - recall: 0.9595\n",
      "Epoch 2/20\n",
      "43/43 [==============================] - 0s 9ms/step - loss: 0.0680 - accuracy: 0.9772 - precision: 0.9579 - recall: 0.9730\n",
      "Epoch 3/20\n",
      "43/43 [==============================] - 0s 9ms/step - loss: 0.0559 - accuracy: 0.9765 - precision: 0.9661 - recall: 0.9617\n",
      "Epoch 4/20\n",
      "43/43 [==============================] - 0s 9ms/step - loss: 0.1395 - accuracy: 0.9625 - precision: 0.9357 - recall: 0.9505\n",
      "Epoch 5/20\n",
      "43/43 [==============================] - 0s 8ms/step - loss: 0.0957 - accuracy: 0.9640 - precision: 0.9582 - recall: 0.9302\n",
      "Epoch 6/20\n",
      "43/43 [==============================] - 0s 8ms/step - loss: 0.0707 - accuracy: 0.9750 - precision: 0.9702 - recall: 0.9527\n",
      "Epoch 7/20\n",
      "43/43 [==============================] - 0s 8ms/step - loss: 0.0786 - accuracy: 0.9758 - precision: 0.9639 - recall: 0.9617\n",
      "Epoch 8/20\n",
      "43/43 [==============================] - 0s 8ms/step - loss: 0.1326 - accuracy: 0.9566 - precision: 0.9508 - recall: 0.9144\n",
      "Epoch 9/20\n",
      "43/43 [==============================] - 0s 8ms/step - loss: 0.0922 - accuracy: 0.9677 - precision: 0.9444 - recall: 0.9572\n",
      "Epoch 10/20\n",
      "43/43 [==============================] - 0s 8ms/step - loss: 0.0721 - accuracy: 0.9743 - precision: 0.9637 - recall: 0.9572\n",
      "Epoch 11/20\n",
      "43/43 [==============================] - 0s 8ms/step - loss: 0.0914 - accuracy: 0.9706 - precision: 0.9676 - recall: 0.9414\n",
      "Epoch 12/20\n",
      "43/43 [==============================] - 0s 8ms/step - loss: 0.0792 - accuracy: 0.9662 - precision: 0.9543 - recall: 0.9414\n",
      "Epoch 13/20\n",
      "43/43 [==============================] - 0s 8ms/step - loss: 0.0851 - accuracy: 0.9684 - precision: 0.9567 - recall: 0.9459\n",
      "Epoch 14/20\n",
      "43/43 [==============================] - 0s 8ms/step - loss: 0.1098 - accuracy: 0.9603 - precision: 0.9372 - recall: 0.9414\n",
      "Epoch 15/20\n",
      "43/43 [==============================] - 0s 8ms/step - loss: 0.1115 - accuracy: 0.9596 - precision: 0.9391 - recall: 0.9369\n",
      "Epoch 16/20\n",
      "43/43 [==============================] - 0s 8ms/step - loss: 0.0797 - accuracy: 0.9758 - precision: 0.9557 - recall: 0.9707\n",
      "Epoch 17/20\n",
      "43/43 [==============================] - 0s 8ms/step - loss: 0.0910 - accuracy: 0.9706 - precision: 0.9449 - recall: 0.9662\n",
      "Epoch 18/20\n",
      "43/43 [==============================] - 0s 8ms/step - loss: 0.0456 - accuracy: 0.9794 - precision: 0.9685 - recall: 0.9685\n",
      "Epoch 19/20\n",
      "43/43 [==============================] - 0s 8ms/step - loss: 0.0313 - accuracy: 0.9838 - precision: 0.9817 - recall: 0.9685\n",
      "Epoch 20/20\n",
      "43/43 [==============================] - 0s 8ms/step - loss: 0.0532 - accuracy: 0.9780 - precision: 0.9559 - recall: 0.9775\n",
      "0.9735099337748344\n",
      "0.9830508474576272\n",
      "0.9764309764309764\n",
      "0.9666666666666667\n",
      "Epoch 1/20\n",
      "43/43 [==============================] - 0s 9ms/step - loss: 0.0403 - accuracy: 0.9868 - precision: 0.9846 - recall: 0.9760\n",
      "Epoch 2/20\n",
      "43/43 [==============================] - 0s 8ms/step - loss: 0.0439 - accuracy: 0.9860 - precision: 0.9741 - recall: 0.9847\n",
      "Epoch 3/20\n",
      "43/43 [==============================] - 0s 8ms/step - loss: 0.0336 - accuracy: 0.9882 - precision: 0.9847 - recall: 0.9804\n",
      "Epoch 4/20\n",
      "43/43 [==============================] - 0s 8ms/step - loss: 0.0761 - accuracy: 0.9787 - precision: 0.9715 - recall: 0.9651\n",
      "Epoch 5/20\n",
      "43/43 [==============================] - 0s 8ms/step - loss: 0.0430 - accuracy: 0.9780 - precision: 0.9673 - recall: 0.9673\n",
      "Epoch 6/20\n",
      "43/43 [==============================] - 0s 8ms/step - loss: 0.0327 - accuracy: 0.9890 - precision: 0.9847 - recall: 0.9826\n",
      "Epoch 7/20\n",
      "43/43 [==============================] - 0s 8ms/step - loss: 0.1335 - accuracy: 0.9559 - precision: 0.9290 - recall: 0.9412\n",
      "Epoch 8/20\n",
      "43/43 [==============================] - 0s 8ms/step - loss: 0.0478 - accuracy: 0.9831 - precision: 0.9658 - recall: 0.9847\n",
      "Epoch 9/20\n",
      "43/43 [==============================] - 0s 8ms/step - loss: 0.0232 - accuracy: 0.9919 - precision: 0.9870 - recall: 0.9891\n",
      "Epoch 10/20\n",
      "43/43 [==============================] - 0s 8ms/step - loss: 0.0370 - accuracy: 0.9846 - precision: 0.9824 - recall: 0.9717\n",
      "Epoch 11/20\n",
      "43/43 [==============================] - 0s 8ms/step - loss: 0.0533 - accuracy: 0.9809 - precision: 0.9676 - recall: 0.9760\n",
      "Epoch 12/20\n",
      "43/43 [==============================] - 0s 8ms/step - loss: 0.0466 - accuracy: 0.9853 - precision: 0.9761 - recall: 0.9804\n",
      "Epoch 13/20\n",
      "43/43 [==============================] - 0s 8ms/step - loss: 0.0493 - accuracy: 0.9816 - precision: 0.9697 - recall: 0.9760\n",
      "Epoch 14/20\n",
      "43/43 [==============================] - 0s 8ms/step - loss: 0.0549 - accuracy: 0.9802 - precision: 0.9675 - recall: 0.9739\n",
      "Epoch 15/20\n",
      "43/43 [==============================] - 0s 8ms/step - loss: 0.1272 - accuracy: 0.9566 - precision: 0.9348 - recall: 0.9368\n",
      "Epoch 16/20\n",
      "43/43 [==============================] - 0s 8ms/step - loss: 0.0569 - accuracy: 0.9816 - precision: 0.9637 - recall: 0.9826\n",
      "Epoch 17/20\n",
      "43/43 [==============================] - 0s 8ms/step - loss: 0.1185 - accuracy: 0.9669 - precision: 0.9461 - recall: 0.9564\n",
      "Epoch 18/20\n",
      "43/43 [==============================] - 0s 8ms/step - loss: 0.0783 - accuracy: 0.9780 - precision: 0.9653 - recall: 0.9695\n",
      "Epoch 19/20\n",
      "43/43 [==============================] - 0s 8ms/step - loss: 0.0671 - accuracy: 0.9780 - precision: 0.9756 - recall: 0.9586\n",
      "Epoch 20/20\n",
      "43/43 [==============================] - 0s 8ms/step - loss: 0.0649 - accuracy: 0.9787 - precision: 0.9634 - recall: 0.9739\n",
      "0.9801324503311258\n",
      "0.9574468085106383\n",
      "0.9615384615384617\n",
      "0.967741935483871\n",
      "Epoch 1/20\n",
      "43/43 [==============================] - 0s 8ms/step - loss: 0.0493 - accuracy: 0.9846 - precision: 0.9761 - recall: 0.9783\n",
      "Epoch 2/20\n",
      "43/43 [==============================] - 0s 8ms/step - loss: 0.0453 - accuracy: 0.9824 - precision: 0.9781 - recall: 0.9696\n",
      "Epoch 3/20\n",
      "43/43 [==============================] - 0s 8ms/step - loss: 0.0330 - accuracy: 0.9897 - precision: 0.9890 - recall: 0.9804\n",
      "Epoch 4/20\n",
      "43/43 [==============================] - 0s 8ms/step - loss: 0.0556 - accuracy: 0.9846 - precision: 0.9761 - recall: 0.9783\n",
      "Epoch 5/20\n",
      "43/43 [==============================] - 0s 8ms/step - loss: 0.0352 - accuracy: 0.9868 - precision: 0.9784 - recall: 0.9826\n",
      "Epoch 6/20\n",
      "43/43 [==============================] - 0s 9ms/step - loss: 0.0212 - accuracy: 0.9919 - precision: 0.9978 - recall: 0.9783\n",
      "Epoch 7/20\n",
      "43/43 [==============================] - 0s 9ms/step - loss: 0.0177 - accuracy: 0.9919 - precision: 0.9891 - recall: 0.9870\n",
      "Epoch 8/20\n",
      "43/43 [==============================] - 0s 9ms/step - loss: 0.0184 - accuracy: 0.9941 - precision: 0.9934 - recall: 0.9891\n",
      "Epoch 9/20\n",
      "43/43 [==============================] - 0s 9ms/step - loss: 0.0227 - accuracy: 0.9904 - precision: 0.9869 - recall: 0.9848\n",
      "Epoch 10/20\n",
      "43/43 [==============================] - 0s 8ms/step - loss: 0.0205 - accuracy: 0.9956 - precision: 0.9935 - recall: 0.9935\n",
      "Epoch 11/20\n",
      "43/43 [==============================] - 0s 8ms/step - loss: 0.0252 - accuracy: 0.9934 - precision: 0.9892 - recall: 0.9913\n",
      "Epoch 12/20\n",
      "43/43 [==============================] - 0s 8ms/step - loss: 0.0157 - accuracy: 0.9949 - precision: 0.9978 - recall: 0.9870\n",
      "Epoch 13/20\n",
      "43/43 [==============================] - 0s 8ms/step - loss: 0.0106 - accuracy: 0.9963 - precision: 0.9956 - recall: 0.9935\n",
      "Epoch 14/20\n",
      "43/43 [==============================] - 0s 8ms/step - loss: 0.0047 - accuracy: 0.9985 - precision: 0.9978 - recall: 0.9978\n",
      "Epoch 15/20\n",
      "43/43 [==============================] - 0s 8ms/step - loss: 0.1617 - accuracy: 0.9530 - precision: 0.9381 - recall: 0.9217\n",
      "Epoch 16/20\n",
      "43/43 [==============================] - 0s 8ms/step - loss: 0.1381 - accuracy: 0.9442 - precision: 0.9528 - recall: 0.8783\n",
      "Epoch 17/20\n",
      "43/43 [==============================] - 0s 8ms/step - loss: 0.0603 - accuracy: 0.9809 - precision: 0.9801 - recall: 0.9630\n",
      "Epoch 18/20\n",
      "43/43 [==============================] - 0s 8ms/step - loss: 0.0689 - accuracy: 0.9860 - precision: 0.9783 - recall: 0.9804\n",
      "Epoch 19/20\n",
      "43/43 [==============================] - 0s 8ms/step - loss: 0.0753 - accuracy: 0.9728 - precision: 0.9628 - recall: 0.9565\n",
      "Epoch 20/20\n",
      "43/43 [==============================] - 0s 8ms/step - loss: 0.0453 - accuracy: 0.9860 - precision: 0.9804 - recall: 0.9783\n",
      "0.9867549668874173\n",
      "0.9777777777777777\n",
      "0.9777777777777777\n",
      "0.9777777777777777\n",
      "Epoch 1/20\n",
      "43/43 [==============================] - 0s 8ms/step - loss: 0.0750 - accuracy: 0.9787 - precision: 0.9643 - recall: 0.9708\n",
      "Epoch 2/20\n",
      "43/43 [==============================] - 0s 8ms/step - loss: 0.0492 - accuracy: 0.9838 - precision: 0.9753 - recall: 0.9753\n",
      "Epoch 3/20\n",
      "43/43 [==============================] - 0s 8ms/step - loss: 0.0266 - accuracy: 0.9904 - precision: 0.9821 - recall: 0.9888\n",
      "Epoch 4/20\n",
      "43/43 [==============================] - 0s 8ms/step - loss: 0.0186 - accuracy: 0.9934 - precision: 0.9910 - recall: 0.9888\n",
      "Epoch 5/20\n",
      "43/43 [==============================] - 0s 8ms/step - loss: 0.1119 - accuracy: 0.9728 - precision: 0.9679 - recall: 0.9483\n",
      "Epoch 6/20\n",
      "43/43 [==============================] - 0s 8ms/step - loss: 0.0879 - accuracy: 0.9706 - precision: 0.9655 - recall: 0.9438\n",
      "Epoch 7/20\n",
      "43/43 [==============================] - 0s 8ms/step - loss: 0.0548 - accuracy: 0.9816 - precision: 0.9839 - recall: 0.9596\n",
      "Epoch 8/20\n",
      "43/43 [==============================] - 0s 8ms/step - loss: 0.0270 - accuracy: 0.9897 - precision: 0.9865 - recall: 0.9820\n",
      "Epoch 9/20\n",
      "43/43 [==============================] - 0s 8ms/step - loss: 0.0441 - accuracy: 0.9860 - precision: 0.9819 - recall: 0.9753\n",
      "Epoch 10/20\n",
      "43/43 [==============================] - 0s 8ms/step - loss: 0.0620 - accuracy: 0.9846 - precision: 0.9775 - recall: 0.9753\n",
      "Epoch 11/20\n",
      "43/43 [==============================] - 0s 8ms/step - loss: 0.0206 - accuracy: 0.9919 - precision: 0.9865 - recall: 0.9888\n",
      "Epoch 12/20\n",
      "43/43 [==============================] - 0s 8ms/step - loss: 0.0178 - accuracy: 0.9934 - precision: 0.9955 - recall: 0.9843\n",
      "Epoch 13/20\n",
      "43/43 [==============================] - 0s 8ms/step - loss: 0.0699 - accuracy: 0.9853 - precision: 0.9733 - recall: 0.9820\n",
      "Epoch 14/20\n",
      "43/43 [==============================] - 0s 8ms/step - loss: 0.0131 - accuracy: 0.9985 - precision: 0.9978 - recall: 0.9978\n",
      "Epoch 15/20\n",
      "43/43 [==============================] - 0s 8ms/step - loss: 0.0130 - accuracy: 0.9949 - precision: 0.9888 - recall: 0.9955\n",
      "Epoch 16/20\n",
      "43/43 [==============================] - 0s 8ms/step - loss: 0.0766 - accuracy: 0.9802 - precision: 0.9644 - recall: 0.9753\n",
      "Epoch 17/20\n",
      "43/43 [==============================] - 0s 9ms/step - loss: 0.0459 - accuracy: 0.9882 - precision: 0.9694 - recall: 0.9955\n",
      "Epoch 18/20\n",
      "43/43 [==============================] - 0s 8ms/step - loss: 0.0140 - accuracy: 0.9956 - precision: 0.9889 - recall: 0.9978\n",
      "Epoch 19/20\n",
      "43/43 [==============================] - 0s 8ms/step - loss: 0.0403 - accuracy: 0.9875 - precision: 0.9735 - recall: 0.9888\n",
      "Epoch 20/20\n",
      "43/43 [==============================] - 0s 9ms/step - loss: 0.0272 - accuracy: 0.9890 - precision: 0.9799 - recall: 0.9865\n",
      "0.9801324503311258\n",
      "0.9523809523809523\n",
      "0.9615384615384615\n",
      "0.975609756097561\n",
      "Epoch 1/20\n",
      "43/43 [==============================] - 0s 10ms/step - loss: 0.0483 - accuracy: 0.9882 - precision: 0.9737 - recall: 0.9911\n",
      "Epoch 2/20\n",
      "43/43 [==============================] - 0s 8ms/step - loss: 0.0284 - accuracy: 0.9912 - precision: 0.9823 - recall: 0.9911\n",
      "Epoch 3/20\n",
      "43/43 [==============================] - 0s 8ms/step - loss: 0.0431 - accuracy: 0.9890 - precision: 0.9822 - recall: 0.9844\n",
      "Epoch 4/20\n",
      "43/43 [==============================] - 0s 10ms/step - loss: 0.0428 - accuracy: 0.9860 - precision: 0.9757 - recall: 0.9822\n",
      "Epoch 5/20\n",
      "43/43 [==============================] - 0s 9ms/step - loss: 0.0530 - accuracy: 0.9868 - precision: 0.9800 - recall: 0.9800\n",
      "Epoch 6/20\n",
      "43/43 [==============================] - 0s 8ms/step - loss: 0.0223 - accuracy: 0.9934 - precision: 0.9846 - recall: 0.9955\n",
      "Epoch 7/20\n",
      "43/43 [==============================] - 0s 8ms/step - loss: 0.0359 - accuracy: 0.9941 - precision: 0.9889 - recall: 0.9933\n",
      "Epoch 8/20\n",
      "43/43 [==============================] - 0s 8ms/step - loss: 0.0932 - accuracy: 0.9721 - precision: 0.9419 - recall: 0.9755\n",
      "Epoch 9/20\n",
      "43/43 [==============================] - 0s 8ms/step - loss: 0.0622 - accuracy: 0.9780 - precision: 0.9525 - recall: 0.9822\n",
      "Epoch 10/20\n",
      "43/43 [==============================] - 0s 8ms/step - loss: 0.0525 - accuracy: 0.9838 - precision: 0.9672 - recall: 0.9844\n",
      "Epoch 11/20\n",
      "43/43 [==============================] - 0s 11ms/step - loss: 0.0648 - accuracy: 0.9838 - precision: 0.9713 - recall: 0.9800\n",
      "Epoch 12/20\n",
      "43/43 [==============================] - 0s 9ms/step - loss: 0.0221 - accuracy: 0.9919 - precision: 0.9867 - recall: 0.9889\n",
      "Epoch 13/20\n",
      "43/43 [==============================] - 0s 9ms/step - loss: 0.0186 - accuracy: 0.9949 - precision: 0.9933 - recall: 0.9911\n",
      "Epoch 14/20\n",
      "43/43 [==============================] - 0s 8ms/step - loss: 0.0213 - accuracy: 0.9927 - precision: 0.9933 - recall: 0.9844\n",
      "Epoch 15/20\n",
      "43/43 [==============================] - 0s 8ms/step - loss: 0.0144 - accuracy: 0.9949 - precision: 0.9933 - recall: 0.9911\n",
      "Epoch 16/20\n",
      "43/43 [==============================] - 0s 8ms/step - loss: 0.0078 - accuracy: 0.9978 - precision: 0.9956 - recall: 0.9978\n",
      "Epoch 17/20\n",
      "43/43 [==============================] - 0s 8ms/step - loss: 0.0118 - accuracy: 0.9963 - precision: 0.9933 - recall: 0.9955\n",
      "Epoch 18/20\n",
      "43/43 [==============================] - 0s 8ms/step - loss: 0.0034 - accuracy: 0.9985 - precision: 1.0000 - recall: 0.9955\n",
      "Epoch 19/20\n",
      "43/43 [==============================] - 0s 8ms/step - loss: 0.0016 - accuracy: 0.9985 - precision: 0.9978 - recall: 0.9978\n",
      "Epoch 20/20\n",
      "43/43 [==============================] - 0s 8ms/step - loss: 0.0042 - accuracy: 0.9985 - precision: 0.9978 - recall: 0.9978\n",
      "1.0\n",
      "1.0\n",
      "1.0\n",
      "1.0\n",
      "Epoch 1/20\n",
      "43/43 [==============================] - 0s 8ms/step - loss: 0.0662 - accuracy: 0.9919 - precision: 0.9891 - recall: 0.9870\n",
      "Epoch 2/20\n",
      "43/43 [==============================] - 0s 8ms/step - loss: 0.3455 - accuracy: 0.8773 - precision: 0.8415 - recall: 0.7848\n",
      "Epoch 3/20\n",
      "43/43 [==============================] - 0s 8ms/step - loss: 0.1013 - accuracy: 0.9655 - precision: 0.9479 - recall: 0.9500\n",
      "Epoch 4/20\n",
      "43/43 [==============================] - 0s 8ms/step - loss: 0.0715 - accuracy: 0.9735 - precision: 0.9690 - recall: 0.9522\n",
      "Epoch 5/20\n",
      "43/43 [==============================] - 0s 9ms/step - loss: 0.0374 - accuracy: 0.9882 - precision: 0.9890 - recall: 0.9761\n",
      "Epoch 6/20\n",
      "43/43 [==============================] - 0s 8ms/step - loss: 0.0613 - accuracy: 0.9802 - precision: 0.9758 - recall: 0.9652\n",
      "Epoch 7/20\n",
      "43/43 [==============================] - 0s 8ms/step - loss: 0.0652 - accuracy: 0.9794 - precision: 0.9779 - recall: 0.9609\n",
      "Epoch 8/20\n",
      "43/43 [==============================] - 0s 8ms/step - loss: 0.0229 - accuracy: 0.9941 - precision: 0.9956 - recall: 0.9870\n",
      "Epoch 9/20\n",
      "43/43 [==============================] - 0s 9ms/step - loss: 0.0405 - accuracy: 0.9919 - precision: 0.9912 - recall: 0.9848\n",
      "Epoch 10/20\n",
      "43/43 [==============================] - 0s 8ms/step - loss: 0.0258 - accuracy: 0.9882 - precision: 0.9784 - recall: 0.9870\n",
      "Epoch 11/20\n",
      "43/43 [==============================] - 0s 9ms/step - loss: 0.0446 - accuracy: 0.9816 - precision: 0.9718 - recall: 0.9739\n",
      "Epoch 12/20\n",
      "43/43 [==============================] - 0s 8ms/step - loss: 0.0373 - accuracy: 0.9912 - precision: 0.9891 - recall: 0.9848\n",
      "Epoch 13/20\n",
      "43/43 [==============================] - 0s 8ms/step - loss: 0.0199 - accuracy: 0.9927 - precision: 0.9891 - recall: 0.9891\n",
      "Epoch 14/20\n",
      "43/43 [==============================] - 0s 8ms/step - loss: 0.0255 - accuracy: 0.9949 - precision: 0.9913 - recall: 0.9935\n",
      "Epoch 15/20\n",
      "43/43 [==============================] - 0s 8ms/step - loss: 0.0568 - accuracy: 0.9846 - precision: 0.9803 - recall: 0.9739\n",
      "Epoch 16/20\n",
      "43/43 [==============================] - 0s 9ms/step - loss: 0.0436 - accuracy: 0.9824 - precision: 0.9678 - recall: 0.9804\n",
      "Epoch 17/20\n",
      "43/43 [==============================] - 0s 9ms/step - loss: 0.0569 - accuracy: 0.9853 - precision: 0.9783 - recall: 0.9783\n",
      "Epoch 18/20\n",
      "43/43 [==============================] - 0s 9ms/step - loss: 0.0320 - accuracy: 0.9882 - precision: 0.9805 - recall: 0.9848\n",
      "Epoch 19/20\n",
      "43/43 [==============================] - 0s 9ms/step - loss: 0.0284 - accuracy: 0.9904 - precision: 0.9891 - recall: 0.9826\n",
      "Epoch 20/20\n",
      "43/43 [==============================] - 0s 9ms/step - loss: 0.0190 - accuracy: 0.9941 - precision: 0.9934 - recall: 0.9891\n",
      "0.9933774834437086\n",
      "0.9782608695652174\n",
      "0.982532751091703\n",
      "0.989010989010989\n"
     ]
    }
   ],
   "source": [
    "from sklearn.model_selection import KFold\n",
    "from sklearn.preprocessing import StandardScaler\n",
    "from sklearn.metrics import accuracy_score, precision_score,fbeta_score, f1_score\n",
    "\n",
    "n_split=10\n",
    "\n",
    "for train_index,test_index in KFold(n_split).split(X_train):\n",
    "  x_train,x_test=X[train_index],X[test_index]\n",
    "  y_train,y_test=y[train_index],y[test_index]\n",
    "\n",
    "  sc = StandardScaler()\n",
    "  x_train = sc.fit_transform(x_train)\n",
    "  x_test = sc.transform(x_test)\n",
    "  \n",
    "  \n",
    "  ann.fit(x_train, y_train, epochs=20)\n",
    "  y_pred = ann.predict(x_test)\n",
    "  y_pred = np.array([0  if i<0.5 else 1 for i in y_pred])\n",
    "\n",
    "  # ann.evaluate(x_test, y_test)\n",
    "\n",
    "  print(accuracy_score(y_test,y_pred))\n",
    "  print(precision_score(y_test, y_pred))\n",
    "  print(fbeta_score(y_test, y_pred, beta=0.5))\n",
    "  print(f1_score(y_test, y_pred))"
   ]
  },
  {
   "cell_type": "code",
   "execution_count": 35,
   "metadata": {},
   "outputs": [],
   "source": [
    "# ann.fit(X_train, y_train, batch_size=32, epochs=420)"
   ]
  },
  {
   "cell_type": "code",
   "execution_count": 36,
   "metadata": {},
   "outputs": [],
   "source": [
    "Y_pred = ann.predict(X_test)\n",
    "Y_pred = np.array([0  if i<0.5 else 1 for i in Y_pred])"
   ]
  },
  {
   "cell_type": "code",
   "execution_count": 37,
   "metadata": {},
   "outputs": [
    {
     "data": {
      "text/plain": [
       "array([[255,   0],\n",
       "       [  1, 122]])"
      ]
     },
     "execution_count": 37,
     "metadata": {},
     "output_type": "execute_result"
    }
   ],
   "source": [
    "from sklearn.metrics import confusion_matrix\n",
    "confusion_matrix(Y_test, Y_pred) "
   ]
  },
  {
   "cell_type": "code",
   "execution_count": 38,
   "metadata": {},
   "outputs": [
    {
     "name": "stdout",
     "output_type": "stream",
     "text": [
      "0.9973544973544973\n",
      "1.0\n",
      "0.9983633387888707\n",
      "0.9959183673469388\n"
     ]
    }
   ],
   "source": [
    "from sklearn.metrics import accuracy_score, precision_score,fbeta_score, f1_score\n",
    "print(accuracy_score(Y_test,Y_pred))\n",
    "print(precision_score(Y_test, Y_pred))\n",
    "print(fbeta_score(Y_test, Y_pred, beta=0.5))\n",
    "print(f1_score(Y_test, Y_pred))"
   ]
  },
  {
   "cell_type": "markdown",
   "metadata": {},
   "source": [
    "0.976\n",
    "\n",
    "0.945"
   ]
  },
  {
   "cell_type": "code",
   "execution_count": 39,
   "metadata": {},
   "outputs": [],
   "source": [
    "# from sklearn.metrics import accuracy_score, precision_score,fbeta_score, f1_score\n",
    "# print(accuracy_score(y_test,y_pred))\n",
    "# print(precision_score(y_test, y_pred))\n",
    "# print(fbeta_score(y_test, y_pred, beta=0.5))\n",
    "# print(f1_score(y_test, y_pred))"
   ]
  },
  {
   "cell_type": "markdown",
   "metadata": {},
   "source": [
    "0.973\n",
    "\n",
    "0.952\n",
    "\n",
    "0.955\n",
    "\n",
    "0.959"
   ]
  },
  {
   "cell_type": "code",
   "execution_count": 40,
   "metadata": {},
   "outputs": [],
   "source": [
    "# ann.save('models/annModel')\n"
   ]
  },
  {
   "cell_type": "code",
   "execution_count": 41,
   "metadata": {},
   "outputs": [],
   "source": [
    "import sklearn.metrics as metrics\n",
    "\n",
    "preds = Y_pred\n",
    "\n",
    "fpr, tpr, threshold = metrics.roc_curve(Y_test, preds)\n",
    "roc_auc = metrics.auc(fpr, tpr)\n"
   ]
  },
  {
   "cell_type": "code",
   "execution_count": 42,
   "metadata": {},
   "outputs": [
    {
     "data": {
      "image/png": "[encoded data removed]",
      "text/plain": [
       "<Figure size 432x288 with 1 Axes>"
      ]
     },
     "metadata": {
      "needs_background": "light"
     },
     "output_type": "display_data"
    }
   ],
   "source": [
    "import matplotlib.pyplot as plt\n",
    "plt.title('Receiver Operating Characteristic')\n",
    "plt.plot(fpr, tpr, 'b', label = 'AUC = %0.2f' % roc_auc)\n",
    "plt.legend(loc = 'lower right')\n",
    "plt.plot([0, 1], [0, 1],'r--')\n",
    "plt.xlim([0, 1])\n",
    "plt.ylim([0, 1])\n",
    "plt.ylabel('True Positive Rate')\n",
    "plt.xlabel('False Positive Rate')\n",
    "plt.show()"
   ]
  },
  {
   "cell_type": "code",
   "execution_count": 43,
   "metadata": {},
   "outputs": [
    {
     "name": "stdout",
     "output_type": "stream",
     "text": [
      "[2 1 0]\n"
     ]
    }
   ],
   "source": [
    "print(threshold)"
   ]
  },
  {
   "cell_type": "code",
   "execution_count": 44,
   "metadata": {},
   "outputs": [
    {
     "data": {
      "text/plain": [
       "array([0.        , 0.99186992, 1.        ])"
      ]
     },
     "execution_count": 44,
     "metadata": {},
     "output_type": "execute_result"
    }
   ],
   "source": [
    "tpr"
   ]
  },
  {
   "cell_type": "code",
   "execution_count": 45,
   "metadata": {},
   "outputs": [
    {
     "name": "stdout",
     "output_type": "stream",
     "text": [
      "[0.0, 0.9959266633137136, 0.0]\n",
      "Best Threshold=1.000000, G-Mean=0.996\n"
     ]
    }
   ],
   "source": [
    "import math\n",
    "gmeans = []\n",
    "for iq in range(len(tpr)):\n",
    "   gmeans.append(math.sqrt(np.array(tpr[iq]) * (1-np.array(fpr[iq]))))\n",
    "print(gmeans)\n",
    "\n",
    "ix = np.argmax(gmeans)\n",
    "print('Best Threshold=%f, G-Mean=%.3f' % (threshold[ix], gmeans[ix]))"
   ]
  },
  {
   "cell_type": "markdown",
   "metadata": {},
   "source": [
    "1 is the optimal threshold"
   ]
  },
  {
   "cell_type": "markdown",
   "metadata": {},
   "source": []
  }
 ],
 "metadata": {
  "kernelspec": {
   "display_name": "Python 3 (ipykernel)",
   "language": "python",
   "name": "python3"
  },
  "language_info": {
   "codemirror_mode": {
    "name": "ipython",
    "version": 3
   },
   "file_extension": ".py",
   "mimetype": "text/x-python",
   "name": "python",
   "nbconvert_exporter": "python",
   "pygments_lexer": "ipython3",
   "version": "3.9.12"
  }
 },
 "nbformat": 4,
 "nbformat_minor": 4
}
